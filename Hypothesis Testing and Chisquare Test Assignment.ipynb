{
 "cells": [
  {
   "cell_type": "markdown",
   "id": "ac08b5ce-5b4b-4bc6-b405-d556eabc71de",
   "metadata": {},
   "source": [
    "# <span style=\"color: brown;\">CHI-SQUARE TEST"
   ]
  },
  {
   "cell_type": "code",
   "execution_count": null,
   "id": "3033f973-d80d-46f0-b044-05fcb8faf9b0",
   "metadata": {},
   "outputs": [],
   "source": []
  },
  {
   "cell_type": "markdown",
   "id": "01705c7f-29a1-4485-b5cf-68c10b9405a8",
   "metadata": {},
   "source": [
    "### <span style=\"color:black ;\"> Assignment Tasks:\n",
    "1. State the Hypotheses:\n",
    "2. Compute the Chi-Square Statistic:\n",
    "3. Determine the Critical Value:\n",
    "Using the significance level (alpha) of 0.05 and the degrees of freedom (which is the number of categories minus 1)\n",
    "4. Make a Decision:\n",
    "Compare the Chi-Square statistic with the critical value to decide whether to reject the null hypothesis."
   ]
  },
  {
   "cell_type": "code",
   "execution_count": null,
   "id": "23e86dee-e268-432b-9443-1c44583ef4b1",
   "metadata": {},
   "outputs": [],
   "source": []
  },
  {
   "cell_type": "markdown",
   "id": "3aed2952-716c-49cb-a6a7-1e7ee4cd7b8a",
   "metadata": {},
   "source": [
    "### 1. State the Hypotheses:\n",
    "\n",
    "H0 (Null Hypothesis): There is no significant association between the type of device and customer satisfaction.\n",
    "\n",
    "\n",
    "H1 (Alternative Hypothesis): There is a significant association between the type of device and customer satisfaction."
   ]
  },
  {
   "cell_type": "code",
   "execution_count": null,
   "id": "64a03cdc-b147-40b5-ac73-03d35be32714",
   "metadata": {},
   "outputs": [],
   "source": []
  },
  {
   "cell_type": "code",
   "execution_count": 18,
   "id": "6592fe97-6726-417f-a39f-50d185abc037",
   "metadata": {},
   "outputs": [
    {
     "name": "stdout",
     "output_type": "stream",
     "text": [
      "Chi-Square Statistic: 5.638\n",
      "P-Value: 0.228\n",
      "Degrees of Freedom: 4\n",
      "Critical Value: 9.488\n",
      "Decision: Fail to reject the null hypothesis\n"
     ]
    }
   ],
   "source": [
    "import numpy as np\n",
    "import scipy.stats as stats\n",
    "\n",
    "# Data provided\n",
    "observed = np.array([\n",
    "    [50, 70],\n",
    "    [80, 100],\n",
    "    [60, 90],\n",
    "    [30, 50],\n",
    "    [20, 50]\n",
    "])\n",
    "\n",
    "# Step 1: State the Hypotheses\n",
    "# H0 (Null Hypothesis): There is no significant association between the type of device and customer satisfaction.\n",
    "# H1 (Alternative Hypothesis): There is a significant association between the type of device and customer satisfaction.\n",
    "\n",
    "# Step 2: Compute the Chi-Square Statistic\n",
    "chi2_stat, p_val, dof, expected = stats.chi2_contingency(observed)\n",
    "\n",
    "# Step 3: Determine the Critical Value\n",
    "alpha = 0.05\n",
    "critical_value = stats.chi2.ppf(1 - alpha, dof)\n",
    "\n",
    "# Step 4: Make a Decision\n",
    "if chi2_stat > critical_value:\n",
    "    decision = \"Reject the null hypothesis\"\n",
    "else:\n",
    "    decision = \"Fail to reject the null hypothesis\"\n",
    "\n",
    "# Print the results\n",
    "print(f\"Chi-Square Statistic: {chi2_stat:.3f}\")\n",
    "print(f\"P-Value: {p_val:.3f}\")\n",
    "print(f\"Degrees of Freedom: {dof}\")\n",
    "print(f\"Critical Value: {critical_value:.3f}\")\n",
    "print(f\"Decision: {decision}\")"
   ]
  },
  {
   "cell_type": "markdown",
   "id": "d45a439c-0053-4212-99a9-19dab928c5a9",
   "metadata": {},
   "source": [
    "# Explanation of each part:\n",
    "\n",
    "### 1. Hypotheses\n",
    "Null Hypothesis (H₀)\n",
    "- Definition: There is no significant association between the type of device purchased (Smart Thermostats vs. Smart Lights) and customer satisfaction levels.\n",
    "- Implication: Any observed differences in satisfaction levels between the two types of devices are due to random chance rather than a real underlying relationship.\n",
    "\n",
    "Alternative Hypothesis (H₁)\n",
    "- Definition: There is a significant association between the type of device purchased (Smart Thermostats vs. Smart Lights) and customer satisfaction levels.\n",
    "- Implication: The satisfaction levels differ between the two types of devices in a way that is not due to random chance.\n",
    "\n",
    "\n",
    "# -----------------------------------------------------------------------------------------\n",
    "\n",
    "### 2.Chi-Square Statistic Calculation:\n",
    "- Chi-Square Test          : The stats.chi2_contingency() function from the scipy.stats library performs the Chi-Square test                                for independence on this observed data. \n",
    "\n",
    "It computes:\n",
    "\n",
    "1. Chi-Square Statistic (χ²): Measures how much the observed counts deviate from the expected counts if there were no                                        association between the variables.\n",
    "\n",
    "2. P-Value                  : Indicates the probability of observing a Chi-Square statistic as extreme as, or more extreme                                   than, the one calculated, assuming the null hypothesis is true.\n",
    "\n",
    "3. Degrees of Freedom (dof) : Represents the number of independent values or quantities which can vary in the analysis. For a                                 contingency table, it is calculated as (number of rows - 1) * (number of columns - 1).\n",
    " \n",
    "4. Expected Frequencies     : The counts you would expect in each cell of the table if the null hypothesis were true.\n",
    "\n",
    "\n",
    "# ------------------------------------------------------------------------------------------\n",
    "\n",
    "\n",
    "\n",
    "\n",
    "# 3.Determine the Critical Value:\n",
    "- The critical value for the Chi-Square distribution is calculated using the degrees of freedom and the significance level (alpha). \n",
    "- Significance Level (α): Set at 0.05 (5%), which is a common choice for determining statistical significance.\n",
    "\n",
    "\n",
    "# ------------------------------------------------------------------------------------------\n",
    "\n",
    "\n",
    "\n",
    "# 4.Making a Decision:\n",
    "\n",
    "The decision is made by comparing the calculated Chi-Square statistic to the critical value.\n",
    "\n",
    "\n",
    "        -  If the Chi-Square statistic is greater than the critical value: Reject the null hypothesis. This means there is a               significant association between the type of device and customer satisfaction.\n",
    "                \n",
    "        -  If the Chi-Square statistic is less than or equal to the critical value: Fail to reject the null hypothesis. This               means there is no significant association between the type of device and customer satisfaction.\n",
    "        \n",
    "        \n",
    "        \n",
    "# -----------------------------------------------------------------------------------------\n",
    "\n",
    "## Summary:\n",
    "### Chi-Square Statistic (χ²): 5.638\n",
    "### P-Value: 0.228\n",
    "### Degrees of Freedom (dof): 4\n",
    "### Critical Value: 9.488\n",
    "### Decision: Fail to reject the null hypothesis\n",
    "- This means the evidence is not strong enough to conclude a significant relationship between the type of device and customer satisfaction."
   ]
  },
  {
   "cell_type": "code",
   "execution_count": null,
   "id": "fd06dfc5-dc09-4476-9ff8-e363b07ab4f8",
   "metadata": {},
   "outputs": [],
   "source": []
  },
  {
   "cell_type": "code",
   "execution_count": null,
   "id": "17149f1e-a5fb-4c4d-9f6a-747ff83c358b",
   "metadata": {},
   "outputs": [],
   "source": []
  },
  {
   "cell_type": "markdown",
   "id": "22579642-a6ac-4d7c-a8ad-d678b0a7c83a",
   "metadata": {},
   "source": [
    "# <span style=\"color: brown;\">HYPOTHESIS TESTING"
   ]
  },
  {
   "cell_type": "code",
   "execution_count": null,
   "id": "9e422d3e-3b46-4448-b0c2-f79ca3620d18",
   "metadata": {},
   "outputs": [],
   "source": []
  },
  {
   "cell_type": "code",
   "execution_count": 30,
   "id": "de6b018b-c0eb-4cea-bce3-e0212a01e7a4",
   "metadata": {},
   "outputs": [
    {
     "name": "stdout",
     "output_type": "stream",
     "text": [
      "Test Statistic (t): -38.00\n",
      "Critical Value (Z): 1.64\n",
      "Fail to reject the null hypothesis. There is not enough evidence to support the claim that weekly operating costs are higher.\n"
     ]
    }
   ],
   "source": [
    "import scipy.stats as stats\n",
    "import numpy as np\n",
    "\n",
    "# Given data\n",
    "sample_mean = 3050  # Mean weekly cost from the sample\n",
    "theoretical_mean = 4000  # Theoretical mean weekly cost\n",
    "std_deviation_per_unit = 5 * 25  # Standard deviation (5 units per unit * 25 units)\n",
    "sample_size = 25  # Sample size\n",
    "\n",
    "# Calculate the test statistic (t)\n",
    "# Standard error (SE) = standard deviation / sqrt(sample size)\n",
    "standard_error = std_deviation_per_unit / np.sqrt(sample_size)\n",
    "test_statistic = (sample_mean - theoretical_mean) / standard_error\n",
    "\n",
    "# Determine the critical value for a one-tailed test at alpha = 0.05\n",
    "alpha = 0.05\n",
    "critical_value = stats.norm.ppf(1 - alpha)  # ppf is the percentile point function, equivalent to inverse of cdf\n",
    "\n",
    "# Print the results\n",
    "print(f\"Test Statistic (t): {test_statistic:.2f}\")\n",
    "print(f\"Critical Value (Z): {critical_value:.2f}\")\n",
    "\n",
    "# Decision\n",
    "if test_statistic > critical_value:\n",
    "    print(\"Reject the null hypothesis. There is strong evidence to support the claim that weekly operating costs are higher.\")\n",
    "else:\n",
    "    print(\"Fail to reject the null hypothesis. There is not enough evidence to support the claim that weekly operating costs are higher.\")"
   ]
  },
  {
   "cell_type": "code",
   "execution_count": null,
   "id": "d37ced8c-61c4-439d-a83f-07088f1b690d",
   "metadata": {},
   "outputs": [],
   "source": []
  },
  {
   "cell_type": "markdown",
   "id": "083c3e57-c6a8-49b1-8b68-88e7e45abe7d",
   "metadata": {},
   "source": [
    "### 1. State the Hypotheses statement:\n",
    "\n",
    "*Null Hypothesis *: The average weekly operating cost is equal to the cost predicted by the model.\n",
    "\n",
    "*Alternative Hypothesis *: The average weekly operating cost is greater than the cost predicted by the model.\n",
    "\n",
    "\n",
    "\n",
    "### Explanation\n",
    "\n",
    "- *Null Hypothesis (\\(H_0\\))*: This hypothesis states that the average weekly operating cost is exactly as predicted by the cost model, which is $4000.\n",
    "\n",
    "- *Alternative Hypothesis (\\(H_1\\))*: This hypothesis suggests that the average weekly operating cost is greater than the $4000 predicted by the model. \n",
    "\n",
    "The objective is to test if there is enough statistical evidence to support the claim that the weekly operating costs are higher than predicted."
   ]
  },
  {
   "cell_type": "code",
   "execution_count": null,
   "id": "280b169b-f2ab-4856-bdc4-09f6c67a7519",
   "metadata": {},
   "outputs": [],
   "source": []
  },
  {
   "cell_type": "markdown",
   "id": "9a6d6ca9-ec0f-49b9-91aa-cd48f8ae1b0d",
   "metadata": {},
   "source": [
    "### Explanation\n",
    "\n",
    "1. *Import Libraries*:\n",
    "   - scipy.stats is used for statistical functions, and numpy is used for numerical operations.\n",
    "\n",
    "2. *Given Data*:\n",
    "   \n",
    "   - sample_mean: The mean weekly cost observed in the sample.\n",
    "   - theoretical_mean: The mean weekly cost predicted by the model.\n",
    "   - std_deviation_per_unit: Standard deviation calculated from the cost model.\n",
    "   - sample_size: Number of restaurants in the sample.\n",
    "     \n",
    "\n",
    "3. *Calculate the Test Statistic*:\n",
    "   \n",
    "   - Using the formula\n",
    "   - The test statistic (t) is calculated using: = Sample Mean−Theoretical Mean/ Standard Error\n",
    " \n",
    "\n",
    "4. *Determine the Critical Value*:\n",
    "   \n",
    "   - The critical value for a one-tailed test at α = 0.05 is obtained using the ppf function from scipy.stats.norm, which provides the quantile function (inverse of the cumulative distribution function).\n",
    "Critical Value:\n",
    "- For a one-tailed test at 𝛼 = 0.05, the critical value is approximately 1.645 (as obtained from the Z-distribution).\n",
    "  \n",
    "\n",
    "5. *Decision and Conclusion*:\n",
    "   - Test Statistic: -38 (negative because the sample mean is less than the theoretical mean).\n",
    "   - Critical Value: 1.645 (positive because it is for the upper tail).\n",
    "   \n",
    "## Comparison:\n",
    "Since -38 (test statistic) is less than 1.645 (critical value), it falls in the non-rejection region for the null hypothesis in this one-tailed test. Thus, we fail to reject the null hypothesis.\n",
    "\n",
    "# Conclusion\n",
    "Given the calculations, the decision we fail to reject the null hypothesis is correct. The result indicates that there isn't sufficient evidence to support the claim that the weekly operating costs are higher than what the model predicts."
   ]
  },
  {
   "cell_type": "code",
   "execution_count": null,
   "id": "e48baec5-cf09-45cd-bef7-93bb0808892a",
   "metadata": {},
   "outputs": [],
   "source": []
  },
  {
   "cell_type": "code",
   "execution_count": null,
   "id": "02d03898-c653-4cb1-9ae6-de4df30bf9cf",
   "metadata": {},
   "outputs": [],
   "source": []
  },
  {
   "cell_type": "markdown",
   "id": "1212717d-af13-4a35-aaba-d5bc5265b6a7",
   "metadata": {},
   "source": [
    "## Thank You!\n",
    "- Hamza Khan"
   ]
  }
 ],
 "metadata": {
  "kernelspec": {
   "display_name": "Python 3 (ipykernel)",
   "language": "python",
   "name": "python3"
  },
  "language_info": {
   "codemirror_mode": {
    "name": "ipython",
    "version": 3
   },
   "file_extension": ".py",
   "mimetype": "text/x-python",
   "name": "python",
   "nbconvert_exporter": "python",
   "pygments_lexer": "ipython3",
   "version": "3.12.4"
  }
 },
 "nbformat": 4,
 "nbformat_minor": 5
}
