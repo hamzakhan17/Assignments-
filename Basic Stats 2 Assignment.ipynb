{
 "cells": [
  {
   "cell_type": "markdown",
   "id": "ac08b5ce-5b4b-4bc6-b405-d556eabc71de",
   "metadata": {},
   "source": [
    "# <span style=\"color: green;\">Basic Stats: Estimation And Confidence Intervals"
   ]
  },
  {
   "cell_type": "code",
   "execution_count": null,
   "id": "3033f973-d80d-46f0-b044-05fcb8faf9b0",
   "metadata": {},
   "outputs": [],
   "source": []
  },
  {
   "cell_type": "markdown",
   "id": "01705c7f-29a1-4485-b5cf-68c10b9405a8",
   "metadata": {},
   "source": [
    "#<span style=\"color:black ;\"> Task 1: Build 99% Confidence Interval Using Sample Standard Deviation"
   ]
  },
  {
   "cell_type": "code",
   "execution_count": null,
   "id": "23e86dee-e268-432b-9443-1c44583ef4b1",
   "metadata": {},
   "outputs": [],
   "source": []
  },
  {
   "cell_type": "code",
   "execution_count": 10,
   "id": "d1ce008d-520a-4e70-baa4-45a99041b484",
   "metadata": {},
   "outputs": [
    {
     "name": "stdout",
     "output_type": "stream",
     "text": [
      "Sample Mean: 1.24\n",
      "Sample Standard Deviation: 0.19\n",
      "Sample Size: 15\n",
      "t-value for 99% confidence level: 2.98\n",
      "Margin of Error: 0.15\n",
      "99% Confidence Interval: (1.09, 1.39)\n"
     ]
    }
   ],
   "source": [
    "import numpy as np\n",
    "from scipy import stats\n",
    "\n",
    "# Data\n",
    "durability = [1.13, 1.55, 1.43, 0.92, 1.25, 1.36, 1.32, 0.85, 1.07, 1.48, 1.20, 1.33, 1.18, 1.22, 1.29]\n",
    "\n",
    "# Step 1: Calculate the sample mean\n",
    "sample_mean = np.mean(durability)\n",
    "\n",
    "# Step 2: Calculate the sample standard deviation\n",
    "sample_std_dev = np.std(durability, ddof=1)  # ddof=1 for sample standard deviation\n",
    "\n",
    "# Step 3: Determine the sample size\n",
    "n = len(durability)\n",
    "\n",
    "# Step 4: Find the t-value for a 99% confidence level with (n - 1) degrees of freedom\n",
    "confidence_level = 0.99\n",
    "alpha = 1 - confidence_level\n",
    "t_value = stats.t.ppf(1 - alpha / 2, df=n - 1)\n",
    "\n",
    "# Step 5: Calculate the margin of error\n",
    "margin_of_error = t_value * (sample_std_dev / np.sqrt(n))\n",
    "\n",
    "# Step 6: Construct the confidence interval\n",
    "lower_bound = sample_mean - margin_of_error\n",
    "upper_bound = sample_mean + margin_of_error\n",
    "\n",
    "# Display the results\n",
    "print(f\"Sample Mean: {sample_mean:.2f}\")\n",
    "print(f\"Sample Standard Deviation: {sample_std_dev:.2f}\")\n",
    "print(f\"Sample Size: {n}\")\n",
    "print(f\"t-value for 99% confidence level: {t_value:.2f}\")\n",
    "print(f\"Margin of Error: {margin_of_error:.2f}\")\n",
    "print(f\"99% Confidence Interval: ({lower_bound:.2f}, {upper_bound:.2f})\")\n"
   ]
  },
  {
   "cell_type": "markdown",
   "id": "8ebf19de-c8b9-4559-98c8-af89af3efe2e",
   "metadata": {},
   "source": [
    "1. Sample Mean: The average of the recorded print-head durabilities.\n",
    "  \n",
    "2. Sample Standard Deviation: Measures the spread of the data. We use ddof=1 to calculate the sample standard deviation.\n",
    "  \n",
    "3. Sample Size: Number of print-heads tested.\n",
    "  \n",
    "4. T-value: The critical value from the t-distribution for a 99% confidence level. We use stats.t.ppf to get this value based on the degrees of freedom    (sample size minus 1).\n",
    "  \n",
    "5. Margin of Error: It combines the t-value and the standard error of the mean.\n",
    "  \n",
    "6. Confidence Interval: The range within which we expect the true population mean to lie with 99% confidence.\n",
    "  \n",
    "- This code will output the 99% confidence interval for the mean durability of the print-heads."
   ]
  },
  {
   "cell_type": "code",
   "execution_count": null,
   "id": "93339a22-6414-483c-9e63-b9876b0cd98f",
   "metadata": {},
   "outputs": [],
   "source": []
  },
  {
   "cell_type": "code",
   "execution_count": null,
   "id": "64a03cdc-b147-40b5-ac73-03d35be32714",
   "metadata": {},
   "outputs": [],
   "source": []
  },
  {
   "cell_type": "markdown",
   "id": "08076056-9e8e-4f69-bc28-56f810133ef7",
   "metadata": {},
   "source": [
    "#<span style =\"colour: black;\"> Task 2: Build 99% Confidence Interval Using Known Population Standard Deviation"
   ]
  },
  {
   "cell_type": "code",
   "execution_count": null,
   "id": "6592fe97-6726-417f-a39f-50d185abc037",
   "metadata": {},
   "outputs": [],
   "source": []
  },
  {
   "cell_type": "code",
   "execution_count": 20,
   "id": "b8319b13-caf1-44b8-88e8-5648518976fe",
   "metadata": {},
   "outputs": [
    {
     "name": "stdout",
     "output_type": "stream",
     "text": [
      "Sample Mean: 1.24\n",
      "Population Standard Deviation: 0.20\n",
      "Sample Size: 15\n",
      "z-value for 99% confidence level: 2.58\n",
      "Margin of Error: 0.13\n",
      "99% Confidence Interval: (1.11, 1.37)\n"
     ]
    }
   ],
   "source": [
    "import numpy as np\n",
    "from scipy import stats\n",
    "\n",
    "# Data\n",
    "durability = [1.13, 1.55, 1.43, 0.92, 1.25, 1.36, 1.32, 0.85, 1.07, 1.48, 1.20, 1.33, 1.18, 1.22, 1.29]\n",
    "\n",
    "# Step 1: Calculate the sample mean\n",
    "sample_mean = np.mean(durability)\n",
    "\n",
    "# Step 2: Known population standard deviation\n",
    "population_std_dev = 0.2\n",
    "\n",
    "# Step 3: Determine the sample size\n",
    "n = len(durability)\n",
    "\n",
    "# Step 4: Find the z-value for a 99% confidence level\n",
    "confidence_level = 0.99\n",
    "alpha = 1 - confidence_level\n",
    "z_value = stats.norm.ppf(1 - alpha / 2)\n",
    "\n",
    "# Step 5: Calculate the margin of error\n",
    "margin_of_error = z_value * (population_std_dev / np.sqrt(n))\n",
    "\n",
    "# Step 6: Construct the confidence interval\n",
    "lower_bound = sample_mean - margin_of_error\n",
    "upper_bound = sample_mean + margin_of_error\n",
    "\n",
    "# Display the results\n",
    "print(f\"Sample Mean: {sample_mean:.2f}\")\n",
    "print(f\"Population Standard Deviation: {population_std_dev:.2f}\")\n",
    "print(f\"Sample Size: {n}\")\n",
    "print(f\"z-value for 99% confidence level: {z_value:.2f}\")\n",
    "print(f\"Margin of Error: {margin_of_error:.2f}\")\n",
    "print(f\"99% Confidence Interval: ({lower_bound:.2f}, {upper_bound:.2f})\")"
   ]
  },
  {
   "cell_type": "code",
   "execution_count": null,
   "id": "61a56147-c5ab-45c6-8fba-786ceb3e7d63",
   "metadata": {},
   "outputs": [],
   "source": []
  },
  {
   "cell_type": "markdown",
   "id": "6da63779-051d-48c7-8257-e18a1c326692",
   "metadata": {},
   "source": [
    "1. Sample Mean: Calculate the average of the sample data.\n",
    "\n",
    "2. Population Standard Deviation: Use the given standard deviation of the population (0.2 million characters).\n",
    "                                                                                     \n",
    "3. Sample Size: The number of print-heads tested (15).\n",
    "                                                                                     \n",
    "4. Z-value: The critical value from the z-distribution for a 99% confidence level, which can be found using stats.norm.ppf.\n",
    "\n",
    "5. Margin of Error: Combines the z-value and the standard error of the mean.\n",
    "\n",
    "6. Confidence Interval: The range within which the true population mean is expected to lie with 99% confidence.\n",
    "\n",
    "- This code calculates the 99% confidence interval for the mean durability of the print-heads using the known population standard deviation."
   ]
  },
  {
   "cell_type": "code",
   "execution_count": null,
   "id": "0928e320-fd8a-4c57-a210-b46db9320481",
   "metadata": {},
   "outputs": [],
   "source": []
  },
  {
   "cell_type": "code",
   "execution_count": null,
   "id": "02d03898-c653-4cb1-9ae6-de4df30bf9cf",
   "metadata": {},
   "outputs": [],
   "source": []
  },
  {
   "cell_type": "markdown",
   "id": "1212717d-af13-4a35-aaba-d5bc5265b6a7",
   "metadata": {},
   "source": [
    "## Thank You!\n",
    "- Hamza Khan"
   ]
  }
 ],
 "metadata": {
  "kernelspec": {
   "display_name": "Python 3 (ipykernel)",
   "language": "python",
   "name": "python3"
  },
  "language_info": {
   "codemirror_mode": {
    "name": "ipython",
    "version": 3
   },
   "file_extension": ".py",
   "mimetype": "text/x-python",
   "name": "python",
   "nbconvert_exporter": "python",
   "pygments_lexer": "ipython3",
   "version": "3.12.4"
  }
 },
 "nbformat": 4,
 "nbformat_minor": 5
}
