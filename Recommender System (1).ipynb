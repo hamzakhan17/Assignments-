{
 "cells": [
  {
   "cell_type": "markdown",
   "id": "3659ea3e-da96-49a1-a6be-283e90955e68",
   "metadata": {},
   "source": [
    "# <span style=\"color:navy\"> Recommender System </span>\n",
    "- The objective of this assignment is to implement a recommendation system using cosine similarity on an anime dataset."
   ]
  },
  {
   "cell_type": "code",
   "execution_count": null,
   "id": "9123edc4-bdb4-4bc8-a235-d3589e44b3b1",
   "metadata": {},
   "outputs": [],
   "source": []
  },
  {
   "cell_type": "markdown",
   "id": "90e48ace-63c2-4ccc-8a19-5d313d1f505b",
   "metadata": {},
   "source": [
    "# <span style=\"color:brown\">Task 1: Data Preprocessing"
   ]
  },
  {
   "cell_type": "code",
   "execution_count": null,
   "id": "f6d076e4-ad4e-4588-b3cc-01019d2498b3",
   "metadata": {},
   "outputs": [],
   "source": []
  },
  {
   "cell_type": "code",
   "execution_count": 6,
   "id": "e12116af-3c07-4a6c-b165-cd8ae81a62d6",
   "metadata": {},
   "outputs": [],
   "source": [
    "import pandas as pd"
   ]
  },
  {
   "cell_type": "code",
   "execution_count": 8,
   "id": "e3a48d13-2096-4369-bb4b-753b3be63a21",
   "metadata": {},
   "outputs": [
    {
     "data": {
      "text/html": [
       "<div>\n",
       "<style scoped>\n",
       "    .dataframe tbody tr th:only-of-type {\n",
       "        vertical-align: middle;\n",
       "    }\n",
       "\n",
       "    .dataframe tbody tr th {\n",
       "        vertical-align: top;\n",
       "    }\n",
       "\n",
       "    .dataframe thead th {\n",
       "        text-align: right;\n",
       "    }\n",
       "</style>\n",
       "<table border=\"1\" class=\"dataframe\">\n",
       "  <thead>\n",
       "    <tr style=\"text-align: right;\">\n",
       "      <th></th>\n",
       "      <th>anime_id</th>\n",
       "      <th>name</th>\n",
       "      <th>genre</th>\n",
       "      <th>type</th>\n",
       "      <th>episodes</th>\n",
       "      <th>rating</th>\n",
       "      <th>members</th>\n",
       "    </tr>\n",
       "  </thead>\n",
       "  <tbody>\n",
       "    <tr>\n",
       "      <th>0</th>\n",
       "      <td>32281</td>\n",
       "      <td>Kimi no Na wa.</td>\n",
       "      <td>Drama, Romance, School, Supernatural</td>\n",
       "      <td>Movie</td>\n",
       "      <td>1</td>\n",
       "      <td>9.37</td>\n",
       "      <td>200630</td>\n",
       "    </tr>\n",
       "    <tr>\n",
       "      <th>1</th>\n",
       "      <td>5114</td>\n",
       "      <td>Fullmetal Alchemist: Brotherhood</td>\n",
       "      <td>Action, Adventure, Drama, Fantasy, Magic, Mili...</td>\n",
       "      <td>TV</td>\n",
       "      <td>64</td>\n",
       "      <td>9.26</td>\n",
       "      <td>793665</td>\n",
       "    </tr>\n",
       "    <tr>\n",
       "      <th>2</th>\n",
       "      <td>28977</td>\n",
       "      <td>Gintama°</td>\n",
       "      <td>Action, Comedy, Historical, Parody, Samurai, S...</td>\n",
       "      <td>TV</td>\n",
       "      <td>51</td>\n",
       "      <td>9.25</td>\n",
       "      <td>114262</td>\n",
       "    </tr>\n",
       "    <tr>\n",
       "      <th>3</th>\n",
       "      <td>9253</td>\n",
       "      <td>Steins;Gate</td>\n",
       "      <td>Sci-Fi, Thriller</td>\n",
       "      <td>TV</td>\n",
       "      <td>24</td>\n",
       "      <td>9.17</td>\n",
       "      <td>673572</td>\n",
       "    </tr>\n",
       "    <tr>\n",
       "      <th>4</th>\n",
       "      <td>9969</td>\n",
       "      <td>Gintama&amp;#039;</td>\n",
       "      <td>Action, Comedy, Historical, Parody, Samurai, S...</td>\n",
       "      <td>TV</td>\n",
       "      <td>51</td>\n",
       "      <td>9.16</td>\n",
       "      <td>151266</td>\n",
       "    </tr>\n",
       "    <tr>\n",
       "      <th>...</th>\n",
       "      <td>...</td>\n",
       "      <td>...</td>\n",
       "      <td>...</td>\n",
       "      <td>...</td>\n",
       "      <td>...</td>\n",
       "      <td>...</td>\n",
       "      <td>...</td>\n",
       "    </tr>\n",
       "    <tr>\n",
       "      <th>12289</th>\n",
       "      <td>9316</td>\n",
       "      <td>Toushindai My Lover: Minami tai Mecha-Minami</td>\n",
       "      <td>Hentai</td>\n",
       "      <td>OVA</td>\n",
       "      <td>1</td>\n",
       "      <td>4.15</td>\n",
       "      <td>211</td>\n",
       "    </tr>\n",
       "    <tr>\n",
       "      <th>12290</th>\n",
       "      <td>5543</td>\n",
       "      <td>Under World</td>\n",
       "      <td>Hentai</td>\n",
       "      <td>OVA</td>\n",
       "      <td>1</td>\n",
       "      <td>4.28</td>\n",
       "      <td>183</td>\n",
       "    </tr>\n",
       "    <tr>\n",
       "      <th>12291</th>\n",
       "      <td>5621</td>\n",
       "      <td>Violence Gekiga David no Hoshi</td>\n",
       "      <td>Hentai</td>\n",
       "      <td>OVA</td>\n",
       "      <td>4</td>\n",
       "      <td>4.88</td>\n",
       "      <td>219</td>\n",
       "    </tr>\n",
       "    <tr>\n",
       "      <th>12292</th>\n",
       "      <td>6133</td>\n",
       "      <td>Violence Gekiga Shin David no Hoshi: Inma Dens...</td>\n",
       "      <td>Hentai</td>\n",
       "      <td>OVA</td>\n",
       "      <td>1</td>\n",
       "      <td>4.98</td>\n",
       "      <td>175</td>\n",
       "    </tr>\n",
       "    <tr>\n",
       "      <th>12293</th>\n",
       "      <td>26081</td>\n",
       "      <td>Yasuji no Pornorama: Yacchimae!!</td>\n",
       "      <td>Hentai</td>\n",
       "      <td>Movie</td>\n",
       "      <td>1</td>\n",
       "      <td>5.46</td>\n",
       "      <td>142</td>\n",
       "    </tr>\n",
       "  </tbody>\n",
       "</table>\n",
       "<p>12294 rows × 7 columns</p>\n",
       "</div>"
      ],
      "text/plain": [
       "       anime_id                                               name  \\\n",
       "0         32281                                     Kimi no Na wa.   \n",
       "1          5114                   Fullmetal Alchemist: Brotherhood   \n",
       "2         28977                                           Gintama°   \n",
       "3          9253                                        Steins;Gate   \n",
       "4          9969                                      Gintama&#039;   \n",
       "...         ...                                                ...   \n",
       "12289      9316       Toushindai My Lover: Minami tai Mecha-Minami   \n",
       "12290      5543                                        Under World   \n",
       "12291      5621                     Violence Gekiga David no Hoshi   \n",
       "12292      6133  Violence Gekiga Shin David no Hoshi: Inma Dens...   \n",
       "12293     26081                   Yasuji no Pornorama: Yacchimae!!   \n",
       "\n",
       "                                                   genre   type episodes  \\\n",
       "0                   Drama, Romance, School, Supernatural  Movie        1   \n",
       "1      Action, Adventure, Drama, Fantasy, Magic, Mili...     TV       64   \n",
       "2      Action, Comedy, Historical, Parody, Samurai, S...     TV       51   \n",
       "3                                       Sci-Fi, Thriller     TV       24   \n",
       "4      Action, Comedy, Historical, Parody, Samurai, S...     TV       51   \n",
       "...                                                  ...    ...      ...   \n",
       "12289                                             Hentai    OVA        1   \n",
       "12290                                             Hentai    OVA        1   \n",
       "12291                                             Hentai    OVA        4   \n",
       "12292                                             Hentai    OVA        1   \n",
       "12293                                             Hentai  Movie        1   \n",
       "\n",
       "       rating  members  \n",
       "0        9.37   200630  \n",
       "1        9.26   793665  \n",
       "2        9.25   114262  \n",
       "3        9.17   673572  \n",
       "4        9.16   151266  \n",
       "...       ...      ...  \n",
       "12289    4.15      211  \n",
       "12290    4.28      183  \n",
       "12291    4.88      219  \n",
       "12292    4.98      175  \n",
       "12293    5.46      142  \n",
       "\n",
       "[12294 rows x 7 columns]"
      ]
     },
     "execution_count": 8,
     "metadata": {},
     "output_type": "execute_result"
    }
   ],
   "source": [
    "# Load the dataset\n",
    "anime = pd.read_csv(r'file:///C:\\Users\\dell\\AppData\\Local\\Temp\\084789f8-0bb6-46e3-a383-612f5e3f1341_Recommendation%20System.zip.341\\Recommendation%20System\\anime.csv')\n",
    "anime"
   ]
  },
  {
   "cell_type": "markdown",
   "id": "53a15542-8633-4a53-8568-4ceae26dda83",
   "metadata": {},
   "source": [
    "- Exploring the  dataset to understand its structure and attributes"
   ]
  },
  {
   "cell_type": "code",
   "execution_count": 19,
   "id": "40999616-356f-48cf-be03-a3c27e6966ee",
   "metadata": {},
   "outputs": [
    {
     "data": {
      "text/html": [
       "<div>\n",
       "<style scoped>\n",
       "    .dataframe tbody tr th:only-of-type {\n",
       "        vertical-align: middle;\n",
       "    }\n",
       "\n",
       "    .dataframe tbody tr th {\n",
       "        vertical-align: top;\n",
       "    }\n",
       "\n",
       "    .dataframe thead th {\n",
       "        text-align: right;\n",
       "    }\n",
       "</style>\n",
       "<table border=\"1\" class=\"dataframe\">\n",
       "  <thead>\n",
       "    <tr style=\"text-align: right;\">\n",
       "      <th></th>\n",
       "      <th>anime_id</th>\n",
       "      <th>name</th>\n",
       "      <th>genre</th>\n",
       "      <th>type</th>\n",
       "      <th>episodes</th>\n",
       "      <th>rating</th>\n",
       "      <th>members</th>\n",
       "    </tr>\n",
       "  </thead>\n",
       "  <tbody>\n",
       "    <tr>\n",
       "      <th>0</th>\n",
       "      <td>32281</td>\n",
       "      <td>Kimi no Na wa.</td>\n",
       "      <td>Drama, Romance, School, Supernatural</td>\n",
       "      <td>Movie</td>\n",
       "      <td>1</td>\n",
       "      <td>9.37</td>\n",
       "      <td>200630</td>\n",
       "    </tr>\n",
       "    <tr>\n",
       "      <th>1</th>\n",
       "      <td>5114</td>\n",
       "      <td>Fullmetal Alchemist: Brotherhood</td>\n",
       "      <td>Action, Adventure, Drama, Fantasy, Magic, Mili...</td>\n",
       "      <td>TV</td>\n",
       "      <td>64</td>\n",
       "      <td>9.26</td>\n",
       "      <td>793665</td>\n",
       "    </tr>\n",
       "    <tr>\n",
       "      <th>2</th>\n",
       "      <td>28977</td>\n",
       "      <td>Gintama°</td>\n",
       "      <td>Action, Comedy, Historical, Parody, Samurai, S...</td>\n",
       "      <td>TV</td>\n",
       "      <td>51</td>\n",
       "      <td>9.25</td>\n",
       "      <td>114262</td>\n",
       "    </tr>\n",
       "    <tr>\n",
       "      <th>3</th>\n",
       "      <td>9253</td>\n",
       "      <td>Steins;Gate</td>\n",
       "      <td>Sci-Fi, Thriller</td>\n",
       "      <td>TV</td>\n",
       "      <td>24</td>\n",
       "      <td>9.17</td>\n",
       "      <td>673572</td>\n",
       "    </tr>\n",
       "    <tr>\n",
       "      <th>4</th>\n",
       "      <td>9969</td>\n",
       "      <td>Gintama&amp;#039;</td>\n",
       "      <td>Action, Comedy, Historical, Parody, Samurai, S...</td>\n",
       "      <td>TV</td>\n",
       "      <td>51</td>\n",
       "      <td>9.16</td>\n",
       "      <td>151266</td>\n",
       "    </tr>\n",
       "  </tbody>\n",
       "</table>\n",
       "</div>"
      ],
      "text/plain": [
       "   anime_id                              name  \\\n",
       "0     32281                    Kimi no Na wa.   \n",
       "1      5114  Fullmetal Alchemist: Brotherhood   \n",
       "2     28977                          Gintama°   \n",
       "3      9253                       Steins;Gate   \n",
       "4      9969                     Gintama&#039;   \n",
       "\n",
       "                                               genre   type episodes  rating  \\\n",
       "0               Drama, Romance, School, Supernatural  Movie        1    9.37   \n",
       "1  Action, Adventure, Drama, Fantasy, Magic, Mili...     TV       64    9.26   \n",
       "2  Action, Comedy, Historical, Parody, Samurai, S...     TV       51    9.25   \n",
       "3                                   Sci-Fi, Thriller     TV       24    9.17   \n",
       "4  Action, Comedy, Historical, Parody, Samurai, S...     TV       51    9.16   \n",
       "\n",
       "   members  \n",
       "0   200630  \n",
       "1   793665  \n",
       "2   114262  \n",
       "3   673572  \n",
       "4   151266  "
      ]
     },
     "execution_count": 19,
     "metadata": {},
     "output_type": "execute_result"
    }
   ],
   "source": [
    "#Display first 5 records\n",
    "anime.head()"
   ]
  },
  {
   "cell_type": "code",
   "execution_count": 23,
   "id": "14a26df4-0644-4667-8f02-4ab3f6d944ac",
   "metadata": {},
   "outputs": [],
   "source": [
    "#Display last 5 records"
   ]
  },
  {
   "cell_type": "code",
   "execution_count": 21,
   "id": "0f5f7788-0422-47b5-9793-fc8b09862946",
   "metadata": {},
   "outputs": [
    {
     "data": {
      "text/html": [
       "<div>\n",
       "<style scoped>\n",
       "    .dataframe tbody tr th:only-of-type {\n",
       "        vertical-align: middle;\n",
       "    }\n",
       "\n",
       "    .dataframe tbody tr th {\n",
       "        vertical-align: top;\n",
       "    }\n",
       "\n",
       "    .dataframe thead th {\n",
       "        text-align: right;\n",
       "    }\n",
       "</style>\n",
       "<table border=\"1\" class=\"dataframe\">\n",
       "  <thead>\n",
       "    <tr style=\"text-align: right;\">\n",
       "      <th></th>\n",
       "      <th>anime_id</th>\n",
       "      <th>name</th>\n",
       "      <th>genre</th>\n",
       "      <th>type</th>\n",
       "      <th>episodes</th>\n",
       "      <th>rating</th>\n",
       "      <th>members</th>\n",
       "    </tr>\n",
       "  </thead>\n",
       "  <tbody>\n",
       "    <tr>\n",
       "      <th>12289</th>\n",
       "      <td>9316</td>\n",
       "      <td>Toushindai My Lover: Minami tai Mecha-Minami</td>\n",
       "      <td>Hentai</td>\n",
       "      <td>OVA</td>\n",
       "      <td>1</td>\n",
       "      <td>4.15</td>\n",
       "      <td>211</td>\n",
       "    </tr>\n",
       "    <tr>\n",
       "      <th>12290</th>\n",
       "      <td>5543</td>\n",
       "      <td>Under World</td>\n",
       "      <td>Hentai</td>\n",
       "      <td>OVA</td>\n",
       "      <td>1</td>\n",
       "      <td>4.28</td>\n",
       "      <td>183</td>\n",
       "    </tr>\n",
       "    <tr>\n",
       "      <th>12291</th>\n",
       "      <td>5621</td>\n",
       "      <td>Violence Gekiga David no Hoshi</td>\n",
       "      <td>Hentai</td>\n",
       "      <td>OVA</td>\n",
       "      <td>4</td>\n",
       "      <td>4.88</td>\n",
       "      <td>219</td>\n",
       "    </tr>\n",
       "    <tr>\n",
       "      <th>12292</th>\n",
       "      <td>6133</td>\n",
       "      <td>Violence Gekiga Shin David no Hoshi: Inma Dens...</td>\n",
       "      <td>Hentai</td>\n",
       "      <td>OVA</td>\n",
       "      <td>1</td>\n",
       "      <td>4.98</td>\n",
       "      <td>175</td>\n",
       "    </tr>\n",
       "    <tr>\n",
       "      <th>12293</th>\n",
       "      <td>26081</td>\n",
       "      <td>Yasuji no Pornorama: Yacchimae!!</td>\n",
       "      <td>Hentai</td>\n",
       "      <td>Movie</td>\n",
       "      <td>1</td>\n",
       "      <td>5.46</td>\n",
       "      <td>142</td>\n",
       "    </tr>\n",
       "  </tbody>\n",
       "</table>\n",
       "</div>"
      ],
      "text/plain": [
       "       anime_id                                               name   genre  \\\n",
       "12289      9316       Toushindai My Lover: Minami tai Mecha-Minami  Hentai   \n",
       "12290      5543                                        Under World  Hentai   \n",
       "12291      5621                     Violence Gekiga David no Hoshi  Hentai   \n",
       "12292      6133  Violence Gekiga Shin David no Hoshi: Inma Dens...  Hentai   \n",
       "12293     26081                   Yasuji no Pornorama: Yacchimae!!  Hentai   \n",
       "\n",
       "        type episodes  rating  members  \n",
       "12289    OVA        1    4.15      211  \n",
       "12290    OVA        1    4.28      183  \n",
       "12291    OVA        4    4.88      219  \n",
       "12292    OVA        1    4.98      175  \n",
       "12293  Movie        1    5.46      142  "
      ]
     },
     "execution_count": 21,
     "metadata": {},
     "output_type": "execute_result"
    }
   ],
   "source": [
    "anime.tail()"
   ]
  },
  {
   "cell_type": "code",
   "execution_count": 25,
   "id": "85de24c3-ce7c-4a86-a97a-d4bd3d80b953",
   "metadata": {},
   "outputs": [
    {
     "data": {
      "text/html": [
       "<div>\n",
       "<style scoped>\n",
       "    .dataframe tbody tr th:only-of-type {\n",
       "        vertical-align: middle;\n",
       "    }\n",
       "\n",
       "    .dataframe tbody tr th {\n",
       "        vertical-align: top;\n",
       "    }\n",
       "\n",
       "    .dataframe thead th {\n",
       "        text-align: right;\n",
       "    }\n",
       "</style>\n",
       "<table border=\"1\" class=\"dataframe\">\n",
       "  <thead>\n",
       "    <tr style=\"text-align: right;\">\n",
       "      <th></th>\n",
       "      <th>anime_id</th>\n",
       "      <th>rating</th>\n",
       "      <th>members</th>\n",
       "    </tr>\n",
       "  </thead>\n",
       "  <tbody>\n",
       "    <tr>\n",
       "      <th>count</th>\n",
       "      <td>12294.000000</td>\n",
       "      <td>12064.000000</td>\n",
       "      <td>1.229400e+04</td>\n",
       "    </tr>\n",
       "    <tr>\n",
       "      <th>mean</th>\n",
       "      <td>14058.221653</td>\n",
       "      <td>6.473902</td>\n",
       "      <td>1.807134e+04</td>\n",
       "    </tr>\n",
       "    <tr>\n",
       "      <th>std</th>\n",
       "      <td>11455.294701</td>\n",
       "      <td>1.026746</td>\n",
       "      <td>5.482068e+04</td>\n",
       "    </tr>\n",
       "    <tr>\n",
       "      <th>min</th>\n",
       "      <td>1.000000</td>\n",
       "      <td>1.670000</td>\n",
       "      <td>5.000000e+00</td>\n",
       "    </tr>\n",
       "    <tr>\n",
       "      <th>25%</th>\n",
       "      <td>3484.250000</td>\n",
       "      <td>5.880000</td>\n",
       "      <td>2.250000e+02</td>\n",
       "    </tr>\n",
       "    <tr>\n",
       "      <th>50%</th>\n",
       "      <td>10260.500000</td>\n",
       "      <td>6.570000</td>\n",
       "      <td>1.550000e+03</td>\n",
       "    </tr>\n",
       "    <tr>\n",
       "      <th>75%</th>\n",
       "      <td>24794.500000</td>\n",
       "      <td>7.180000</td>\n",
       "      <td>9.437000e+03</td>\n",
       "    </tr>\n",
       "    <tr>\n",
       "      <th>max</th>\n",
       "      <td>34527.000000</td>\n",
       "      <td>10.000000</td>\n",
       "      <td>1.013917e+06</td>\n",
       "    </tr>\n",
       "  </tbody>\n",
       "</table>\n",
       "</div>"
      ],
      "text/plain": [
       "           anime_id        rating       members\n",
       "count  12294.000000  12064.000000  1.229400e+04\n",
       "mean   14058.221653      6.473902  1.807134e+04\n",
       "std    11455.294701      1.026746  5.482068e+04\n",
       "min        1.000000      1.670000  5.000000e+00\n",
       "25%     3484.250000      5.880000  2.250000e+02\n",
       "50%    10260.500000      6.570000  1.550000e+03\n",
       "75%    24794.500000      7.180000  9.437000e+03\n",
       "max    34527.000000     10.000000  1.013917e+06"
      ]
     },
     "execution_count": 25,
     "metadata": {},
     "output_type": "execute_result"
    }
   ],
   "source": [
    "anime.describe()"
   ]
  },
  {
   "cell_type": "code",
   "execution_count": 29,
   "id": "e69f99ef-7f93-4653-a420-edc528117203",
   "metadata": {},
   "outputs": [
    {
     "data": {
      "text/plain": [
       "Index(['anime_id', 'name', 'genre', 'type', 'episodes', 'rating', 'members'], dtype='object')"
      ]
     },
     "execution_count": 29,
     "metadata": {},
     "output_type": "execute_result"
    }
   ],
   "source": [
    "anime.columns"
   ]
  },
  {
   "cell_type": "code",
   "execution_count": 31,
   "id": "16c3c67a-8549-4d22-955e-258b371e7af3",
   "metadata": {},
   "outputs": [
    {
     "name": "stdout",
     "output_type": "stream",
     "text": [
      "<class 'pandas.core.frame.DataFrame'>\n",
      "RangeIndex: 12294 entries, 0 to 12293\n",
      "Data columns (total 7 columns):\n",
      " #   Column    Non-Null Count  Dtype  \n",
      "---  ------    --------------  -----  \n",
      " 0   anime_id  12294 non-null  int64  \n",
      " 1   name      12294 non-null  object \n",
      " 2   genre     12232 non-null  object \n",
      " 3   type      12269 non-null  object \n",
      " 4   episodes  12294 non-null  object \n",
      " 5   rating    12064 non-null  float64\n",
      " 6   members   12294 non-null  int64  \n",
      "dtypes: float64(1), int64(2), object(4)\n",
      "memory usage: 672.5+ KB\n"
     ]
    }
   ],
   "source": [
    "anime.info()"
   ]
  },
  {
   "cell_type": "markdown",
   "id": "7562f5e3-6ce6-410c-b893-2a748be1d94c",
   "metadata": {},
   "source": [
    "- As here we can see here there is 1 float , 2 int and 4 objects"
   ]
  },
  {
   "cell_type": "code",
   "execution_count": null,
   "id": "7f686c0e-b0b9-4917-aec5-f10cb98c0b84",
   "metadata": {},
   "outputs": [],
   "source": [
    "# We'll convert obj into int in our next step that is in : Feature Extraction"
   ]
  },
  {
   "cell_type": "code",
   "execution_count": 36,
   "id": "da997ac7-860a-462a-8658-b7eaa5d194fb",
   "metadata": {},
   "outputs": [
    {
     "data": {
      "text/plain": [
       "anime_id      0\n",
       "name          0\n",
       "genre        62\n",
       "type         25\n",
       "episodes      0\n",
       "rating      230\n",
       "members       0\n",
       "dtype: int64"
      ]
     },
     "execution_count": 36,
     "metadata": {},
     "output_type": "execute_result"
    }
   ],
   "source": [
    "#checking missing value\n",
    "anime.isnull().sum()"
   ]
  },
  {
   "cell_type": "code",
   "execution_count": 52,
   "id": "7b6679a0-3c8a-4e62-a2e2-8d269c4c21f6",
   "metadata": {},
   "outputs": [
    {
     "data": {
      "text/plain": [
       "genre      62\n",
       "type       25\n",
       "rating    230\n",
       "dtype: int64"
      ]
     },
     "execution_count": 52,
     "metadata": {},
     "output_type": "execute_result"
    }
   ],
   "source": [
    "anime.isnull().sum()[anime.isnull().sum()>0]"
   ]
  },
  {
   "cell_type": "code",
   "execution_count": 54,
   "id": "a0e59594-9655-465d-8af7-d6686c8b6f87",
   "metadata": {},
   "outputs": [],
   "source": [
    "#filling nulls value"
   ]
  },
  {
   "cell_type": "code",
   "execution_count": 56,
   "id": "16f2415c-5c62-42c8-93d5-12f89a814947",
   "metadata": {},
   "outputs": [
    {
     "data": {
      "text/plain": [
       "genre\n",
       "Hentai                                                  823\n",
       "Comedy                                                  523\n",
       "Music                                                   301\n",
       "Kids                                                    199\n",
       "Comedy, Slice of Life                                   179\n",
       "                                                       ... \n",
       "Adventure, Drama, Fantasy, Game, Sci-Fi                   1\n",
       "Adventure, Demons, Fantasy, Historical                    1\n",
       "Action, Comedy, Drama, Mecha, Music, Sci-Fi, Shounen      1\n",
       "Action, Comedy, Fantasy, Mecha, Sci-Fi, Shounen           1\n",
       "Hentai, Slice of Life                                     1\n",
       "Name: count, Length: 3264, dtype: int64"
      ]
     },
     "execution_count": 56,
     "metadata": {},
     "output_type": "execute_result"
    }
   ],
   "source": [
    "anime.genre.value_counts()"
   ]
  },
  {
   "cell_type": "code",
   "execution_count": 58,
   "id": "aa305db3-64ae-4c77-9205-5639270a64a8",
   "metadata": {},
   "outputs": [
    {
     "data": {
      "text/plain": [
       "type\n",
       "TV         3787\n",
       "OVA        3311\n",
       "Movie      2348\n",
       "Special    1676\n",
       "ONA         659\n",
       "Music       488\n",
       "Name: count, dtype: int64"
      ]
     },
     "execution_count": 58,
     "metadata": {},
     "output_type": "execute_result"
    }
   ],
   "source": [
    "anime.type.value_counts()"
   ]
  },
  {
   "cell_type": "code",
   "execution_count": 60,
   "id": "6eba3505-1290-4c7e-84ae-76c06f034eaa",
   "metadata": {},
   "outputs": [
    {
     "data": {
      "text/plain": [
       "rating\n",
       "6.00    141\n",
       "7.00     99\n",
       "6.50     90\n",
       "6.25     84\n",
       "5.00     76\n",
       "       ... \n",
       "3.47      1\n",
       "3.71      1\n",
       "3.87      1\n",
       "3.91      1\n",
       "3.14      1\n",
       "Name: count, Length: 598, dtype: int64"
      ]
     },
     "execution_count": 60,
     "metadata": {},
     "output_type": "execute_result"
    }
   ],
   "source": [
    "anime.rating.value_counts()"
   ]
  },
  {
   "cell_type": "markdown",
   "id": "535d6892-c776-44b0-8e54-a8f8adc0a8e1",
   "metadata": {},
   "source": [
    "genre  - We'll fill it with 'Unknown' since genres are categorical and each anime should have a genre.\n",
    "\n",
    "type   - Similar to genres, we'll fill it with 'Unknown'.\n",
    "\n",
    "rating - Filling missing ratings with the mean"
   ]
  },
  {
   "cell_type": "code",
   "execution_count": 65,
   "id": "22366721-9817-4b95-9195-ead334851a0d",
   "metadata": {},
   "outputs": [
    {
     "name": "stderr",
     "output_type": "stream",
     "text": [
      "C:\\Users\\dell\\AppData\\Local\\Temp\\ipykernel_1380\\4236015515.py:2: FutureWarning: A value is trying to be set on a copy of a DataFrame or Series through chained assignment using an inplace method.\n",
      "The behavior will change in pandas 3.0. This inplace method will never work because the intermediate object on which we are setting values always behaves as a copy.\n",
      "\n",
      "For example, when doing 'df[col].method(value, inplace=True)', try using 'df.method({col: value}, inplace=True)' or df[col] = df[col].method(value) instead, to perform the operation inplace on the original object.\n",
      "\n",
      "\n",
      "  anime['genre'].fillna('Unknown', inplace=True)\n",
      "C:\\Users\\dell\\AppData\\Local\\Temp\\ipykernel_1380\\4236015515.py:3: FutureWarning: A value is trying to be set on a copy of a DataFrame or Series through chained assignment using an inplace method.\n",
      "The behavior will change in pandas 3.0. This inplace method will never work because the intermediate object on which we are setting values always behaves as a copy.\n",
      "\n",
      "For example, when doing 'df[col].method(value, inplace=True)', try using 'df.method({col: value}, inplace=True)' or df[col] = df[col].method(value) instead, to perform the operation inplace on the original object.\n",
      "\n",
      "\n",
      "  anime['type'].fillna('Unknown', inplace=True)\n",
      "C:\\Users\\dell\\AppData\\Local\\Temp\\ipykernel_1380\\4236015515.py:6: FutureWarning: A value is trying to be set on a copy of a DataFrame or Series through chained assignment using an inplace method.\n",
      "The behavior will change in pandas 3.0. This inplace method will never work because the intermediate object on which we are setting values always behaves as a copy.\n",
      "\n",
      "For example, when doing 'df[col].method(value, inplace=True)', try using 'df.method({col: value}, inplace=True)' or df[col] = df[col].method(value) instead, to perform the operation inplace on the original object.\n",
      "\n",
      "\n",
      "  anime['rating'].fillna(anime['rating'].mean(), inplace=True)\n"
     ]
    }
   ],
   "source": [
    "# Filling missing values for 'genre' and 'type' with 'Unknown'\n",
    "anime['genre'].fillna('Unknown', inplace=True)\n",
    "anime['type'].fillna('Unknown', inplace=True)\n",
    "\n",
    "# Filling missing values for 'rating' with the mean rating\n",
    "anime['rating'].fillna(anime['rating'].mean(), inplace=True)"
   ]
  },
  {
   "cell_type": "code",
   "execution_count": 67,
   "id": "02cc1a70-b868-4ec0-a568-590e133f7fce",
   "metadata": {},
   "outputs": [
    {
     "data": {
      "text/plain": [
       "Series([], dtype: int64)"
      ]
     },
     "execution_count": 67,
     "metadata": {},
     "output_type": "execute_result"
    }
   ],
   "source": [
    "anime.isnull().sum()[anime.isnull().sum()>0]"
   ]
  },
  {
   "cell_type": "markdown",
   "id": "ae30ce0f-31de-4097-8684-76e27fb9a030",
   "metadata": {},
   "source": [
    "- Here we can see that nulls has been removed"
   ]
  },
  {
   "cell_type": "code",
   "execution_count": null,
   "id": "7ad5fd0d-c851-4f17-9a68-0c391a172bbb",
   "metadata": {},
   "outputs": [],
   "source": []
  },
  {
   "cell_type": "code",
   "execution_count": null,
   "id": "2a6eaba6-4eb0-48a6-80f4-fe1e15916154",
   "metadata": {},
   "outputs": [],
   "source": []
  },
  {
   "cell_type": "markdown",
   "id": "dd4f8037-3f78-4cdc-bfb7-ba17626696fa",
   "metadata": {},
   "source": [
    "# <span style=\"color:brown\">Task 2: Feature Extraction"
   ]
  },
  {
   "cell_type": "code",
   "execution_count": null,
   "id": "c8aeddb8-9405-424b-950a-6f669ed76ceb",
   "metadata": {},
   "outputs": [],
   "source": []
  },
  {
   "cell_type": "markdown",
   "id": "71d186b2-1997-4d2d-993d-f682f88f0675",
   "metadata": {},
   "source": [
    "To identify important features for computing similarity we'll use exploratory data analysis (EDA) and feature selection techniques."
   ]
  },
  {
   "cell_type": "code",
   "execution_count": null,
   "id": "8882f7a9-f158-4c55-91a4-649d8f486945",
   "metadata": {},
   "outputs": [],
   "source": []
  },
  {
   "cell_type": "markdown",
   "id": "a76ea303-854b-401f-9186-6c6a769cab64",
   "metadata": {},
   "source": [
    "## Using Exploratory Data Analysis (EDA)\n",
    "- Analyzing the correlation between different features.\n",
    "- Visualizing the distribution of features to understand their importance."
   ]
  },
  {
   "cell_type": "code",
   "execution_count": null,
   "id": "202e6dc6-262c-4574-af1e-778e6381debe",
   "metadata": {},
   "outputs": [],
   "source": []
  },
  {
   "cell_type": "code",
   "execution_count": 76,
   "id": "7ffc0ce8-56bb-457e-8763-208fc0a6a1d5",
   "metadata": {},
   "outputs": [
    {
     "data": {
      "image/png": "[encoded data removed]",
      "text/plain": [
       "<Figure size 1400x600 with 2 Axes>"
      ]
     },
     "metadata": {},
     "output_type": "display_data"
    }
   ],
   "source": [
    "import seaborn as sns\n",
    "import matplotlib.pyplot as plt\n",
    "\n",
    "# Plot the distribution of ratings and members\n",
    "plt.figure(figsize=(14, 6))\n",
    "\n",
    "plt.subplot(1, 2, 1)\n",
    "sns.histplot(anime['rating'], kde=True)\n",
    "plt.title('Distribution of Ratings')\n",
    "\n",
    "plt.subplot(1, 2, 2)\n",
    "sns.histplot(anime['members'], kde=True)\n",
    "plt.title('Distribution of Members')\n",
    "\n",
    "plt.show()"
   ]
  },
  {
   "cell_type": "code",
   "execution_count": 78,
   "id": "49a3241c-a7df-4ee3-a966-fab15ae4c129",
   "metadata": {},
   "outputs": [
    {
     "data": {
      "image/png": "[encoded data removed]",
      "text/plain": [
       "<Figure size 640x480 with 2 Axes>"
      ]
     },
     "metadata": {},
     "output_type": "display_data"
    }
   ],
   "source": [
    "# Correlation matrix\n",
    "corr_matrix = anime[['rating', 'members']].corr()\n",
    "sns.heatmap(corr_matrix, annot=True, cmap='coolwarm')\n",
    "plt.title('Correlation Matrix')\n",
    "plt.show()"
   ]
  },
  {
   "cell_type": "markdown",
   "id": "c7461d2c-d0d4-4b36-af30-74cc22f54e6e",
   "metadata": {},
   "source": [
    "### Analysis Results\n",
    "1. Distribution Analysis:\n",
    "\n",
    "The distributions of rating and members provide insights into their spread and central tendencies, helping us understand how these features vary across the dataset.\n",
    "\n",
    "2. Correlation Matrix:\n",
    "\n",
    "The correlation matrix shows the relationship between rating and members. The correlation coefficient between these features is low, indicating that they do not strongly influence each other."
   ]
  },
  {
   "cell_type": "code",
   "execution_count": null,
   "id": "c3dc1bfc-9caf-4b69-9ec6-4010020d7c93",
   "metadata": {},
   "outputs": [],
   "source": []
  },
  {
   "cell_type": "markdown",
   "id": "6abf1a97-1bd9-457a-b80d-d5b4c14cd748",
   "metadata": {},
   "source": [
    "## Using Feature Importance Analysis\n",
    "- Using techniques like feature importance from models to identify significant features."
   ]
  },
  {
   "cell_type": "code",
   "execution_count": 82,
   "id": "e53281f7-1700-4bba-bb99-f1f46e8e496f",
   "metadata": {},
   "outputs": [
    {
     "name": "stdout",
     "output_type": "stream",
     "text": [
      "         Mutual Information\n",
      "members            0.121419\n",
      "rating             0.108667\n"
     ]
    }
   ],
   "source": [
    "from sklearn.feature_selection import mutual_info_classif\n",
    "from sklearn.preprocessing import LabelEncoder\n",
    "\n",
    "# Encode the 'type' column\n",
    "le = LabelEncoder()\n",
    "anime['type_encoded'] = le.fit_transform(anime['type'].astype(str))\n",
    "\n",
    "# Compute mutual information for categorical target 'type_encoded'\n",
    "X = anime[['rating', 'members']].fillna(0)\n",
    "y = anime['type_encoded']\n",
    "\n",
    "mi = mutual_info_classif(X, y)\n",
    "mi_df = pd.DataFrame(mi, index=X.columns, columns=['Mutual Information']).sort_values(by='Mutual Information', ascending=False)\n",
    "print(mi_df)"
   ]
  },
  {
   "cell_type": "markdown",
   "id": "358cb067-a246-4b29-8092-c1c4a1ad7b30",
   "metadata": {},
   "source": [
    "### Analysis Results\n",
    "1. Mutual Information:\n",
    "\n",
    "The mutual information scores indicate how much information rating and members provide about the type of anime. Both features have relatively similar mutual information scores, suggesting they are both informative."
   ]
  },
  {
   "cell_type": "markdown",
   "id": "2401d83b-c06f-4e4c-89a5-a1f49180e0e6",
   "metadata": {},
   "source": [
    "- Conclusion:- Based on above analyses, genre, rating, and members are indeed good choices for computing similarity."
   ]
  },
  {
   "cell_type": "code",
   "execution_count": null,
   "id": "5da811e7-842f-4e82-8d21-bc6316be4aa5",
   "metadata": {},
   "outputs": [],
   "source": []
  },
  {
   "cell_type": "markdown",
   "id": "6bb43261-aaad-472d-9c21-8270ee978e62",
   "metadata": {},
   "source": [
    "### Converting categorical features into numerical representations\n",
    "- We will convert genre(object) into numerical representations using one-hot encoding."
   ]
  },
  {
   "cell_type": "code",
   "execution_count": 87,
   "id": "c5eb4f64-f3be-445d-a701-91e363494a63",
   "metadata": {},
   "outputs": [],
   "source": [
    "from sklearn.preprocessing import OneHotEncoder, StandardScaler\n",
    "\n",
    "# One-hot encodig the 'genre' column\n",
    "encoder = OneHotEncoder()\n",
    "genre_encoded = encoder.fit_transform(anime[['genre']]).toarray()"
   ]
  },
  {
   "cell_type": "code",
   "execution_count": null,
   "id": "2f0ecd4e-9bf9-4412-bcc0-208872a3cc30",
   "metadata": {},
   "outputs": [],
   "source": []
  },
  {
   "cell_type": "markdown",
   "id": "8ff3253d-3e4f-4a45-93ef-09c3cb980301",
   "metadata": {},
   "source": [
    "### Normalizing numerical feature"
   ]
  },
  {
   "cell_type": "code",
   "execution_count": 90,
   "id": "1cdde68a-94ed-4a7b-b639-148e189cc723",
   "metadata": {},
   "outputs": [],
   "source": [
    "# Normalizing the 'rating' and 'members' columns\n",
    "scaler = StandardScaler()\n",
    "anime[['rating', 'members']] = scaler.fit_transform(anime[['rating', 'members']])"
   ]
  },
  {
   "cell_type": "code",
   "execution_count": 92,
   "id": "e3a67881-ef90-4d57-b3cd-3e776833b061",
   "metadata": {},
   "outputs": [],
   "source": [
    "# Combining the one-hot encoded 'genre' with 'rating' and 'members'\n",
    "import numpy as np\n",
    "features = np.hstack([genre_encoded, anime[['rating', 'members']].values])"
   ]
  },
  {
   "cell_type": "code",
   "execution_count": 94,
   "id": "280955bd-b5a1-46a1-8d7e-6ef56f7ab532",
   "metadata": {},
   "outputs": [
    {
     "name": "stdout",
     "output_type": "stream",
     "text": [
      "(12294, 3267)\n"
     ]
    }
   ],
   "source": [
    "print(features.shape)  # Ensuring the shape is as expected"
   ]
  },
  {
   "cell_type": "code",
   "execution_count": null,
   "id": "996935c9-4026-4b21-aab9-999b4cecf521",
   "metadata": {},
   "outputs": [],
   "source": []
  },
  {
   "cell_type": "code",
   "execution_count": null,
   "id": "e81ce4c4-4ef8-4baf-ac21-ab4141bff12d",
   "metadata": {},
   "outputs": [],
   "source": []
  },
  {
   "cell_type": "markdown",
   "id": "f20fc863-8eb3-4543-93fc-f262720e67c0",
   "metadata": {},
   "source": [
    "# <span style=\"color:brown\"> Task 3: Recommendation System\n",
    "- Designing a function to recommend anime based on cosine similarity.\n",
    "- Given a target anime, recommend a list of similar anime based on cosine similarity scores.\n",
    "- Experiment with different threshold values for similarity scores to adjust the recommendation list size.\n",
    "\n",
    "\n",
    "# <span style=\"color:brown\"> Task 4: Evaluation\n",
    "- Split the dataset into training and testing sets.\n",
    "- Evaluating it using precision, recall, and F1-score.\n",
    "- Analyze the performance of the recommendation system and identify areas of improvement."
   ]
  },
  {
   "cell_type": "code",
   "execution_count": null,
   "id": "8bc39e56-8b28-4c57-bbe6-cd46a4968aec",
   "metadata": {},
   "outputs": [],
   "source": []
  },
  {
   "cell_type": "code",
   "execution_count": 97,
   "id": "ee56bbc3-2689-4202-ad8d-b05dbfbb8fe4",
   "metadata": {},
   "outputs": [
    {
     "name": "stdout",
     "output_type": "stream",
     "text": [
      "                                          name    rating   members\n",
      "14                     Haikyuu!! Second Season  2.414913  2.941905\n",
      "26            Monogatari Series: Second Season  2.287093  3.427453\n",
      "18                Ookami Kodomo no Ame to Yuki  2.326422  3.796562\n",
      "42          Ansatsu Kyoushitsu (TV) 2nd Season  2.169105  2.889605\n",
      "58                 Kuroko no Basket 3rd Season  2.110111  3.036453\n",
      "59  Steins;Gate Movie: Fuka Ryouiki no Déjà vu  2.100279  3.180547\n",
      "20                              Hajime no Ippo  2.316590  2.546564\n",
      "25               Suzumiya Haruhi no Shoushitsu  2.296925  4.053848\n",
      "60                          Hotarubi no Mori e  2.100279  3.272031\n",
      "71                              Hotaru no Haka  2.070782  2.860473\n"
     ]
    }
   ],
   "source": [
    "from sklearn.metrics.pairwise import cosine_similarity\n",
    "\n",
    "def recommend_anime(target_anime_id, anime, features, top_n=10):\n",
    "    # Finding the index of the target anime\n",
    "    target_idx = anime[anime['anime_id'] == target_anime_id].index[0]\n",
    "    \n",
    "    # Compute cosine similarity between the target anime and all other anime\n",
    "    similarities = cosine_similarity([features[target_idx]], features)[0]\n",
    "    \n",
    "    # Geting the indices of the top_n most similar anime\n",
    "    similar_indices = similarities.argsort()[-top_n-1:-1][::-1]\n",
    "    \n",
    "    # Returning the names of the top_n most similar anime\n",
    "    return anime.iloc[similar_indices][['name', 'rating', 'members']]\n",
    "\n",
    "# Example usage\n",
    "print(recommend_anime(32281, anime, features, top_n=10))"
   ]
  },
  {
   "cell_type": "code",
   "execution_count": 99,
   "id": "3aef873a-e7f4-4016-884d-55245cd481a9",
   "metadata": {},
   "outputs": [
    {
     "name": "stderr",
     "output_type": "stream",
     "text": [
      "C:\\Users\\dell\\anaconda3\\Lib\\site-packages\\sklearn\\feature_extraction\\text.py:525: UserWarning: The parameter 'token_pattern' will not be used since 'tokenizer' is not None'\n",
      "  warnings.warn(\n"
     ]
    }
   ],
   "source": [
    "from sklearn.feature_extraction.text import CountVectorizer\n",
    "from sklearn.metrics.pairwise import cosine_similarity\n",
    "\n",
    "# Fill missing values in the 'genre' column with an empty string\n",
    "anime['genre'] = anime['genre'].fillna('')\n",
    "\n",
    "# Create a count matrix based on the 'genre' column\n",
    "count_vectorizer = CountVectorizer(tokenizer=lambda x: x.split(', '))\n",
    "count_matrix = count_vectorizer.fit_transform(anime['genre'])\n",
    "\n",
    "# Compute the cosine similarity matrix\n",
    "cosine_sim = cosine_similarity(count_matrix, count_matrix)"
   ]
  },
  {
   "cell_type": "code",
   "execution_count": 101,
   "id": "2be22436-8d05-4379-8d30-92521b019e3a",
   "metadata": {},
   "outputs": [],
   "source": [
    "def get_recommendations(name, cosine_sim=cosine_sim):\n",
    "    # Get the index of the anime that matches the name\n",
    "    idx = anime[anime['name'] == name].index[0]\n",
    "\n",
    "    # Get the pairwise similarity scores of all animes with that anime\n",
    "    sim_scores = list(enumerate(cosine_sim[idx]))\n",
    "\n",
    "    # Sort the animes based on the similarity scores\n",
    "    sim_scores = sorted(sim_scores, key=lambda x: x[1], reverse=True)\n",
    "\n",
    "    # Get the scores of the 10 most similar animes\n",
    "    sim_scores = sim_scores[1:11]\n",
    "\n",
    "    # Get the anime indices\n",
    "    anime_indices = [i[0] for i in sim_scores]\n",
    "\n",
    "    # Return the top 10 most similar animes\n",
    "    return anime[['anime_id', 'name', 'genre']].iloc[anime_indices]"
   ]
  },
  {
   "cell_type": "code",
   "execution_count": 103,
   "id": "447f2c46-ef3c-4128-885e-64688f8adf06",
   "metadata": {},
   "outputs": [
    {
     "name": "stdout",
     "output_type": "stream",
     "text": [
      "Training set size: 9835\n",
      "Testing set size: 2459\n"
     ]
    }
   ],
   "source": [
    "from sklearn.model_selection import train_test_split\n",
    "\n",
    "# Split the dataset into training and testing sets\n",
    "train, test = train_test_split(anime, test_size=0.2, random_state=42)\n",
    "\n",
    "# Display the sizes of the training and testing sets\n",
    "print(f'Training set size: {len(train)}')\n",
    "print(f'Testing set size: {len(test)}')"
   ]
  },
  {
   "cell_type": "code",
   "execution_count": null,
   "id": "9c21a2a2-aa97-4ff4-947c-9d806f2a075f",
   "metadata": {},
   "outputs": [],
   "source": []
  },
  {
   "cell_type": "code",
   "execution_count": 105,
   "id": "3558d6ce-dea3-4b61-bfa8-696803cc05e4",
   "metadata": {},
   "outputs": [
    {
     "name": "stdout",
     "output_type": "stream",
     "text": [
      "      anime_id                                               name  \\\n",
      "615       1735                                 Naruto: Shippuuden   \n",
      "841         20                                             Naruto   \n",
      "1103     32365  Boruto: Naruto the Movie - Naruto ga Hokage ni...   \n",
      "1343     10075                                        Naruto x UT   \n",
      "1472      8246        Naruto: Shippuuden Movie 4 - The Lost Tower   \n",
      "1573      6325  Naruto: Shippuuden Movie 3 - Hi no Ishi wo Tsu...   \n",
      "2458     19511               Naruto Shippuuden: Sunny Side Battle   \n",
      "2997     10659  Naruto Soyokazeden Movie: Naruto to Mashin to ...   \n",
      "175       1604                             Katekyo Hitman Reborn!   \n",
      "7628     23933                            Kyutai Panic Adventure!   \n",
      "\n",
      "                                                  genre  \n",
      "615   Action, Comedy, Martial Arts, Shounen, Super P...  \n",
      "841   Action, Comedy, Martial Arts, Shounen, Super P...  \n",
      "1103  Action, Comedy, Martial Arts, Shounen, Super P...  \n",
      "1343  Action, Comedy, Martial Arts, Shounen, Super P...  \n",
      "1472  Action, Comedy, Martial Arts, Shounen, Super P...  \n",
      "1573  Action, Comedy, Martial Arts, Shounen, Super P...  \n",
      "2458  Action, Comedy, Martial Arts, Shounen, Super P...  \n",
      "2997  Action, Comedy, Martial Arts, Shounen, Super P...  \n",
      "175                Action, Comedy, Shounen, Super Power  \n",
      "7628         Action, Martial Arts, Shounen, Super Power  \n"
     ]
    }
   ],
   "source": [
    "recommendations = get_recommendations('Naruto')\n",
    "print(recommendations)"
   ]
  },
  {
   "cell_type": "code",
   "execution_count": null,
   "id": "1a17278f-5b87-4851-be8a-0bd0a5206714",
   "metadata": {},
   "outputs": [],
   "source": []
  },
  {
   "cell_type": "markdown",
   "id": "9d6d565c-e620-4346-9a77-ca821efd4d85",
   "metadata": {},
   "source": [
    "### Experiment with different threshold values for similarity scores to adjust the recommendation list size."
   ]
  },
  {
   "cell_type": "code",
   "execution_count": null,
   "id": "e2d343ea-2e05-419d-8463-ab11dc92af6e",
   "metadata": {},
   "outputs": [],
   "source": []
  },
  {
   "cell_type": "code",
   "execution_count": 108,
   "id": "f7943ea7-271a-487d-a811-48ac507e0ef4",
   "metadata": {},
   "outputs": [],
   "source": [
    "def get_recommendations(name, cosine_sim=cosine_sim, threshold=0.1):\n",
    "    # Get the index of the anime that matches the name\n",
    "    idx = anime[anime['name'] == name].index[0]\n",
    "\n",
    "    # Get the pairwise similarity scores of all animes with that anime\n",
    "    sim_scores = list(enumerate(cosine_sim[idx]))\n",
    "\n",
    "    # Filter out the animes that have a similarity score below the threshold\n",
    "    sim_scores = [score for score in sim_scores if score[1] > threshold]\n",
    "\n",
    "    # Sort the animes based on the similarity scores\n",
    "    sim_scores = sorted(sim_scores, key=lambda x: x[1], reverse=True)\n",
    "\n",
    "    # Get the anime indices\n",
    "    anime_indices = [i[0] for i in sim_scores]\n",
    "\n",
    "    # Return the similar animes\n",
    "    return anime[['anime_id', 'name', 'genre']].iloc[anime_indices]"
   ]
  },
  {
   "cell_type": "code",
   "execution_count": 110,
   "id": "f36714be-2827-4db4-b5ee-023984fc69a1",
   "metadata": {},
   "outputs": [
    {
     "name": "stdout",
     "output_type": "stream",
     "text": [
      "       anime_id                                               name  \\\n",
      "486       28755                           Boruto: Naruto the Movie   \n",
      "615        1735                                 Naruto: Shippuuden   \n",
      "841          20                                             Naruto   \n",
      "1103      32365  Boruto: Naruto the Movie - Naruto ga Hokage ni...   \n",
      "1343      10075                                        Naruto x UT   \n",
      "...         ...                                                ...   \n",
      "11956      2070                                 Guy: Youma Kakusei   \n",
      "11957      1763                                   Midnight Panther   \n",
      "12015      2479                                      Dragon Knight   \n",
      "12166      3553                               Reyon Densetsu Flair   \n",
      "12176      2480                               Dragon Knight Gaiden   \n",
      "\n",
      "                                                   genre  \n",
      "486    Action, Comedy, Martial Arts, Shounen, Super P...  \n",
      "615    Action, Comedy, Martial Arts, Shounen, Super P...  \n",
      "841    Action, Comedy, Martial Arts, Shounen, Super P...  \n",
      "1103   Action, Comedy, Martial Arts, Shounen, Super P...  \n",
      "1343   Action, Comedy, Martial Arts, Shounen, Super P...  \n",
      "...                                                  ...  \n",
      "11956                      Action, Hentai, Sci-Fi, Space  \n",
      "11957                 Action, Adventure, Fantasy, Hentai  \n",
      "12015                    Action, Demons, Fantasy, Hentai  \n",
      "12166                    Action, Demons, Fantasy, Hentai  \n",
      "12176                    Action, Demons, Fantasy, Hentai  \n",
      "\n",
      "[6169 rows x 3 columns]\n"
     ]
    }
   ],
   "source": [
    "# Lower threshold\n",
    "recommendations = get_recommendations('Naruto', threshold=0.2)\n",
    "print(recommendations)"
   ]
  },
  {
   "cell_type": "code",
   "execution_count": 112,
   "id": "719c2f62-487c-4d0d-bec2-3d02dc64d1b9",
   "metadata": {},
   "outputs": [
    {
     "name": "stdout",
     "output_type": "stream",
     "text": [
      "      anime_id                                               name  \\\n",
      "486      28755                           Boruto: Naruto the Movie   \n",
      "615       1735                                 Naruto: Shippuuden   \n",
      "841         20                                             Naruto   \n",
      "1103     32365  Boruto: Naruto the Movie - Naruto ga Hokage ni...   \n",
      "1343     10075                                        Naruto x UT   \n",
      "...        ...                                                ...   \n",
      "4785     21353                                          Tokyo ESP   \n",
      "4942      3154                                          Gatchaman   \n",
      "6196      2851                                      Ninku (Movie)   \n",
      "6229      1468                                     Baoh Raihousha   \n",
      "6457     29758                                       Taboo Tattoo   \n",
      "\n",
      "                                                  genre  \n",
      "486   Action, Comedy, Martial Arts, Shounen, Super P...  \n",
      "615   Action, Comedy, Martial Arts, Shounen, Super P...  \n",
      "841   Action, Comedy, Martial Arts, Shounen, Super P...  \n",
      "1103  Action, Comedy, Martial Arts, Shounen, Super P...  \n",
      "1343  Action, Comedy, Martial Arts, Shounen, Super P...  \n",
      "...                                                 ...  \n",
      "4785  Action, Comedy, Sci-Fi, Shounen, Super Power, ...  \n",
      "4942  Action, Adventure, Martial Arts, Sci-Fi, Shoun...  \n",
      "6196  Action, Adventure, Comedy, Historical, Martial...  \n",
      "6229  Action, Martial Arts, Sci-Fi, Shounen, Space, ...  \n",
      "6457  Action, Comedy, Martial Arts, Mystery, Super P...  \n",
      "\n",
      "[119 rows x 3 columns]\n"
     ]
    }
   ],
   "source": [
    "# Higher threshold\n",
    "recommendations = get_recommendations('Naruto', threshold=0.7)\n",
    "print(recommendations)"
   ]
  },
  {
   "cell_type": "markdown",
   "id": "19429c41-9ebb-442a-bb3c-c3ec183bcf37",
   "metadata": {},
   "source": [
    "# Threshold values-  in a recommendation system determine the minimum similarity score required for an item to be considered similar enough to be recommended.\n",
    "\n",
    "## Lower threshold: More recommendations, including less similar items.\n",
    "## Higher threshold: Fewer recommendations, focusing on more similar items.\n",
    "\n",
    "- This allows you to fine-tune the recommendations based on the desired level of similarity."
   ]
  },
  {
   "cell_type": "code",
   "execution_count": null,
   "id": "9f277e23-403f-4ac7-bf51-ef782246df06",
   "metadata": {},
   "outputs": [],
   "source": []
  },
  {
   "cell_type": "code",
   "execution_count": 115,
   "id": "5e5a9d21-ce67-4c6b-94ca-1c3336bd7ab1",
   "metadata": {},
   "outputs": [
    {
     "name": "stderr",
     "output_type": "stream",
     "text": [
      "C:\\Users\\dell\\anaconda3\\Lib\\site-packages\\sklearn\\feature_extraction\\text.py:525: UserWarning: The parameter 'token_pattern' will not be used since 'tokenizer' is not None'\n",
      "  warnings.warn(\n"
     ]
    },
    {
     "name": "stdout",
     "output_type": "stream",
     "text": [
      "Precision: 0.8261455120908987\n",
      "Recall: 0.9962505728874171\n",
      "F1-Score: 0.9032591174807311\n"
     ]
    }
   ],
   "source": [
    "# Create a count matrix based on the 'genre' column\n",
    "count_vectorizer = CountVectorizer(tokenizer=lambda x: x.split(', '))\n",
    "count_matrix = count_vectorizer.fit_transform(anime['genre'])\n",
    "\n",
    "# Compute the cosine similarity matrix\n",
    "cosine_sim = cosine_similarity(count_matrix, count_matrix)\n",
    "\n",
    "def get_recommendations(name, cosine_sim=cosine_sim):\n",
    "    # Get the index of the anime that matches the name\n",
    "    idx = anime[anime['name'] == name].index[0]\n",
    "\n",
    "    # Get the pairwise similarity scores of all animes with that anime\n",
    "    sim_scores = list(enumerate(cosine_sim[idx]))\n",
    "\n",
    "    # Sort the animes based on the similarity scores\n",
    "    sim_scores = sorted(sim_scores, key=lambda x: x[1], reverse=True)\n",
    "\n",
    "    # Get the scores of the 10 most similar animes\n",
    "    sim_scores = sim_scores[1:11]\n",
    "\n",
    "    # Get the anime indices\n",
    "    anime_indices = [i[0] for i in sim_scores]\n",
    "\n",
    "    # Return the top 10 most similar animes\n",
    "    return anime.iloc[anime_indices]\n",
    "\n",
    "# Evaluate the recommendations\n",
    "def evaluate_recommendations(test_set):\n",
    "    precision_list = []\n",
    "    recall_list = []\n",
    "\n",
    "    for idx, row in test_set.iterrows():\n",
    "        true_genres = set(row['genre'].split(', '))\n",
    "        recommendations = get_recommendations(row['name'])\n",
    "        \n",
    "        recommended_genres = set()\n",
    "        for _, rec_row in recommendations.iterrows():\n",
    "            recommended_genres.update(rec_row['genre'].split(', '))\n",
    "        \n",
    "        true_positives = len(true_genres & recommended_genres)\n",
    "        precision = true_positives / len(recommended_genres) if recommended_genres else 0\n",
    "        recall = true_positives / len(true_genres) if true_genres else 0\n",
    "\n",
    "        precision_list.append(precision)\n",
    "        recall_list.append(recall)\n",
    "\n",
    "    average_precision = sum(precision_list) / len(precision_list)\n",
    "    average_recall = sum(recall_list) / len(recall_list)\n",
    "    f1_score = 2 * (average_precision * average_recall) / (average_precision + average_recall) if (average_precision + average_recall) != 0 else 0\n",
    "\n",
    "    return average_precision, average_recall, f1_score\n",
    "\n",
    "# Get evaluation metrics\n",
    "precision, recall, f1 = evaluate_recommendations(test)\n",
    "\n",
    "print(f'Precision: {precision}')\n",
    "print(f'Recall: {recall}')\n",
    "print(f'F1-Score: {f1}')"
   ]
  },
  {
   "cell_type": "markdown",
   "id": "205c59eb-1339-4897-bfcc-5e5ce3ce5eaf",
   "metadata": {},
   "source": [
    "- Recommendation system's performance metrics look promising with high precision, recall, and F1-score values. This means that the recommendations are both accurate and comprehensive."
   ]
  },
  {
   "cell_type": "code",
   "execution_count": null,
   "id": "b8312fde-21fc-4afd-b767-fe76e7b0c107",
   "metadata": {},
   "outputs": [],
   "source": []
  },
  {
   "cell_type": "markdown",
   "id": "14aeff42-bdca-464a-aebb-8c489f1fec31",
   "metadata": {},
   "source": [
    "# <span style=\"color:brown\">Conclusion and Analysis of the Recommendation System's Performance\n",
    "\n",
    "## Performance Metrics\n",
    "### Precision: 0.826\n",
    "- This indicates that 82.6% of the recommended animes share the same genres as the target anime. A high precision value suggests that the system is good at recommending relevant animes.\n",
    "### Recall: 0.996\n",
    "- This indicates that 99.6% of the relevant genres for a target anime are found in the recommended animes. A high recall value suggests that the system captures most of the relevant genres in its recommendations.\n",
    "### F1-Score: 0.903\n",
    "- The F1-Score balances precision and recall, with a value of 0.903, indicating a well-rounded performance of the recommendation system.\n",
    "\n",
    "\n",
    "## Areas for Improvement\n",
    "1. Incorporating More Features:\n",
    "      - Currently, the recommendation system relies primarily on the genre. Including additional features such as type, rating,         and members could enhance the recommendation quality. \n",
    "\n",
    "\n",
    "2. User-Based Recommendations:\n",
    "      - This would allow the system to tailor recommendations based on individual user history and preferences.\n",
    "\n",
    "\n",
    "3. Hyperparameter Tuning:\n",
    "      - Experimenting with different values for the number of recommendations and adjusting parameters in the CountVectorizer           can fine-tune the system. \n",
    "\n",
    "\n",
    "4. Improving Computational Efficiency:\n",
    "      - If we have larger datasets, the current approach of computing the cosine similarity matrix might become computationally         expensive. So in this cases, we can use nearest neighbors and other algorithms."
   ]
  },
  {
   "cell_type": "code",
   "execution_count": null,
   "id": "1bb8274f-48a6-4835-b52e-cd61af1cee41",
   "metadata": {},
   "outputs": [],
   "source": []
  },
  {
   "cell_type": "markdown",
   "id": "5704c46c-9986-4425-b7a9-c9d5b4e6b2ef",
   "metadata": {},
   "source": [
    "Interview Questions:\n",
    "1 Can you explain the difference between user-based and item-based collaborative filtering?\n",
    "\n",
    "User-based collaborative filtering recommends items by finding similar users. It assumes that users who agreed in the past will agree in the future.\n",
    "Item-based collaborative filtering recommends items by finding similar items. It assumes that users will like items similar to those they liked in the past.\n",
    "\n",
    "2 What is collaborative filtering, and how does it work?\n",
    "\n",
    "Collaborative filtering is a recommendation technique based on the preferences of many users. It works by finding patterns in user behavior or item features, identifying similarities, and making recommendations based on those patterns. It can be user-based, item-based, or a hybrid of both."
   ]
  },
  {
   "cell_type": "code",
   "execution_count": null,
   "id": "ae5f9e2a-05d8-4e83-8b94-c89d8eaefa16",
   "metadata": {},
   "outputs": [],
   "source": []
  },
  {
   "cell_type": "code",
   "execution_count": null,
   "id": "77b5469c-6f80-4c31-821c-9eb318208e34",
   "metadata": {},
   "outputs": [],
   "source": []
  },
  {
   "cell_type": "markdown",
   "id": "1212717d-af13-4a35-aaba-d5bc5265b6a7",
   "metadata": {},
   "source": [
    "## Thank You!\n",
    "- Hamza Khan"
   ]
  }
 ],
 "metadata": {
  "kernelspec": {
   "display_name": "Python 3 (ipykernel)",
   "language": "python",
   "name": "python3"
  },
  "language_info": {
   "codemirror_mode": {
    "name": "ipython",
    "version": 3
   },
   "file_extension": ".py",
   "mimetype": "text/x-python",
   "name": "python",
   "nbconvert_exporter": "python",
   "pygments_lexer": "ipython3",
   "version": "3.12.4"
  }
 },
 "nbformat": 4,
 "nbformat_minor": 5
}
