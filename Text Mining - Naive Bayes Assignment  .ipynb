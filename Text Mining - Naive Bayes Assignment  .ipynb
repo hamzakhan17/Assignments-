{
 "cells": [
  {
   "cell_type": "markdown",
   "id": "11232c0d-3a57-4f72-addd-388398df17fe",
   "metadata": {},
   "source": [
    "# TEXT CLASSIFICATION USING NAIVE BAYES AND SENTIMENT ANALYSIS ON BLOG POSTS"
   ]
  },
  {
   "cell_type": "code",
   "execution_count": null,
   "id": "2d2ebc40-3c77-4a86-9f78-65ea5ebd8dd6",
   "metadata": {},
   "outputs": [],
   "source": []
  },
  {
   "cell_type": "markdown",
   "id": "1ac362bc-29e0-45c7-aee3-e51c2419f534",
   "metadata": {},
   "source": [
    "### Task1. Data Exploration and Preprocessing\n",
    "•\tLoad the \"blogs_categories.csv\" dataset and perform an exploratory data analysis to understand its structure and content.\n",
    "\n",
    "•\tPreprocess the data by cleaning the text (removing punctuation, converting to lowercase, etc.), tokenizing, and removing stopwords.\n",
    "\n",
    "•\tPerform feature extraction to convert text data into a format that can be used by the Naive Bayes model, using techniques such as TF-IDF."
   ]
  },
  {
   "cell_type": "code",
   "execution_count": 9,
   "id": "e12116af-3c07-4a6c-b165-cd8ae81a62d6",
   "metadata": {},
   "outputs": [],
   "source": [
    "import pandas as pd"
   ]
  },
  {
   "cell_type": "code",
   "execution_count": 11,
   "id": "e3a48d13-2096-4369-bb4b-753b3be63a21",
   "metadata": {},
   "outputs": [
    {
     "data": {
      "text/html": [
       "<div>\n",
       "<style scoped>\n",
       "    .dataframe tbody tr th:only-of-type {\n",
       "        vertical-align: middle;\n",
       "    }\n",
       "\n",
       "    .dataframe tbody tr th {\n",
       "        vertical-align: top;\n",
       "    }\n",
       "\n",
       "    .dataframe thead th {\n",
       "        text-align: right;\n",
       "    }\n",
       "</style>\n",
       "<table border=\"1\" class=\"dataframe\">\n",
       "  <thead>\n",
       "    <tr style=\"text-align: right;\">\n",
       "      <th></th>\n",
       "      <th>Data</th>\n",
       "      <th>Labels</th>\n",
       "    </tr>\n",
       "  </thead>\n",
       "  <tbody>\n",
       "    <tr>\n",
       "      <th>0</th>\n",
       "      <td>Path: cantaloupe.srv.cs.cmu.edu!magnesium.club...</td>\n",
       "      <td>alt.atheism</td>\n",
       "    </tr>\n",
       "    <tr>\n",
       "      <th>1</th>\n",
       "      <td>Newsgroups: alt.atheism\\nPath: cantaloupe.srv....</td>\n",
       "      <td>alt.atheism</td>\n",
       "    </tr>\n",
       "    <tr>\n",
       "      <th>2</th>\n",
       "      <td>Path: cantaloupe.srv.cs.cmu.edu!das-news.harva...</td>\n",
       "      <td>alt.atheism</td>\n",
       "    </tr>\n",
       "    <tr>\n",
       "      <th>3</th>\n",
       "      <td>Path: cantaloupe.srv.cs.cmu.edu!magnesium.club...</td>\n",
       "      <td>alt.atheism</td>\n",
       "    </tr>\n",
       "    <tr>\n",
       "      <th>4</th>\n",
       "      <td>Xref: cantaloupe.srv.cs.cmu.edu alt.atheism:53...</td>\n",
       "      <td>alt.atheism</td>\n",
       "    </tr>\n",
       "    <tr>\n",
       "      <th>...</th>\n",
       "      <td>...</td>\n",
       "      <td>...</td>\n",
       "    </tr>\n",
       "    <tr>\n",
       "      <th>1995</th>\n",
       "      <td>Xref: cantaloupe.srv.cs.cmu.edu talk.abortion:...</td>\n",
       "      <td>talk.religion.misc</td>\n",
       "    </tr>\n",
       "    <tr>\n",
       "      <th>1996</th>\n",
       "      <td>Xref: cantaloupe.srv.cs.cmu.edu talk.religion....</td>\n",
       "      <td>talk.religion.misc</td>\n",
       "    </tr>\n",
       "    <tr>\n",
       "      <th>1997</th>\n",
       "      <td>Xref: cantaloupe.srv.cs.cmu.edu talk.origins:4...</td>\n",
       "      <td>talk.religion.misc</td>\n",
       "    </tr>\n",
       "    <tr>\n",
       "      <th>1998</th>\n",
       "      <td>Xref: cantaloupe.srv.cs.cmu.edu talk.religion....</td>\n",
       "      <td>talk.religion.misc</td>\n",
       "    </tr>\n",
       "    <tr>\n",
       "      <th>1999</th>\n",
       "      <td>Xref: cantaloupe.srv.cs.cmu.edu sci.skeptic:43...</td>\n",
       "      <td>talk.religion.misc</td>\n",
       "    </tr>\n",
       "  </tbody>\n",
       "</table>\n",
       "<p>2000 rows × 2 columns</p>\n",
       "</div>"
      ],
      "text/plain": [
       "                                                   Data              Labels\n",
       "0     Path: cantaloupe.srv.cs.cmu.edu!magnesium.club...         alt.atheism\n",
       "1     Newsgroups: alt.atheism\\nPath: cantaloupe.srv....         alt.atheism\n",
       "2     Path: cantaloupe.srv.cs.cmu.edu!das-news.harva...         alt.atheism\n",
       "3     Path: cantaloupe.srv.cs.cmu.edu!magnesium.club...         alt.atheism\n",
       "4     Xref: cantaloupe.srv.cs.cmu.edu alt.atheism:53...         alt.atheism\n",
       "...                                                 ...                 ...\n",
       "1995  Xref: cantaloupe.srv.cs.cmu.edu talk.abortion:...  talk.religion.misc\n",
       "1996  Xref: cantaloupe.srv.cs.cmu.edu talk.religion....  talk.religion.misc\n",
       "1997  Xref: cantaloupe.srv.cs.cmu.edu talk.origins:4...  talk.religion.misc\n",
       "1998  Xref: cantaloupe.srv.cs.cmu.edu talk.religion....  talk.religion.misc\n",
       "1999  Xref: cantaloupe.srv.cs.cmu.edu sci.skeptic:43...  talk.religion.misc\n",
       "\n",
       "[2000 rows x 2 columns]"
      ]
     },
     "execution_count": 11,
     "metadata": {},
     "output_type": "execute_result"
    }
   ],
   "source": [
    "blog = pd.read_csv(r'file:///C:\\Users\\dell\\Downloads\\blogs%20(1).csv')\n",
    "blog"
   ]
  },
  {
   "cell_type": "code",
   "execution_count": null,
   "id": "6d0c569f-6c24-4770-b24b-988dbd47aba3",
   "metadata": {},
   "outputs": [],
   "source": []
  },
  {
   "cell_type": "code",
   "execution_count": 15,
   "id": "e7a6c3b8-ea6c-4774-a4de-737f647d91bb",
   "metadata": {},
   "outputs": [
    {
     "name": "stdout",
     "output_type": "stream",
     "text": [
      "First few rows of the dataset:\n",
      "                                                Data       Labels\n",
      "0  Path: cantaloupe.srv.cs.cmu.edu!magnesium.club...  alt.atheism\n",
      "1  Newsgroups: alt.atheism\\nPath: cantaloupe.srv....  alt.atheism\n",
      "2  Path: cantaloupe.srv.cs.cmu.edu!das-news.harva...  alt.atheism\n",
      "3  Path: cantaloupe.srv.cs.cmu.edu!magnesium.club...  alt.atheism\n",
      "4  Xref: cantaloupe.srv.cs.cmu.edu alt.atheism:53...  alt.atheism\n"
     ]
    }
   ],
   "source": [
    "# Display the first few rows to understand the structure\n",
    "print(\"First few rows of the dataset:\")\n",
    "print(blog.head())"
   ]
  },
  {
   "cell_type": "code",
   "execution_count": 17,
   "id": "55b9924d-6841-4201-a999-2fc654837778",
   "metadata": {},
   "outputs": [
    {
     "data": {
      "text/plain": [
       "Data      0\n",
       "Labels    0\n",
       "dtype: int64"
      ]
     },
     "execution_count": 17,
     "metadata": {},
     "output_type": "execute_result"
    }
   ],
   "source": [
    "#checking nulls values\n",
    "blog.isnull().sum()"
   ]
  },
  {
   "cell_type": "code",
   "execution_count": 19,
   "id": "d2e2aea4-7aba-419d-a919-bc5257c25bd3",
   "metadata": {},
   "outputs": [
    {
     "name": "stdout",
     "output_type": "stream",
     "text": [
      "\n",
      "Distribution of categories:\n",
      "Labels\n",
      "alt.atheism                 100\n",
      "comp.graphics               100\n",
      "talk.politics.misc          100\n",
      "talk.politics.mideast       100\n",
      "talk.politics.guns          100\n",
      "soc.religion.christian      100\n",
      "sci.space                   100\n",
      "sci.med                     100\n",
      "sci.electronics             100\n",
      "sci.crypt                   100\n",
      "rec.sport.hockey            100\n",
      "rec.sport.baseball          100\n",
      "rec.motorcycles             100\n",
      "rec.autos                   100\n",
      "misc.forsale                100\n",
      "comp.windows.x              100\n",
      "comp.sys.mac.hardware       100\n",
      "comp.sys.ibm.pc.hardware    100\n",
      "comp.os.ms-windows.misc     100\n",
      "talk.religion.misc          100\n",
      "Name: count, dtype: int64\n"
     ]
    }
   ],
   "source": [
    "# Check the distribution of the categories\n",
    "print(\"\\nDistribution of categories:\")\n",
    "print(blog['Labels'].value_counts())"
   ]
  },
  {
   "cell_type": "code",
   "execution_count": null,
   "id": "0a4e7d20-e23f-41c7-b099-c92767686da1",
   "metadata": {},
   "outputs": [],
   "source": []
  },
  {
   "cell_type": "code",
   "execution_count": 21,
   "id": "510574ed-650d-4581-800d-7be816bcc708",
   "metadata": {},
   "outputs": [],
   "source": [
    "# Preprocessing the Data\n",
    "\n",
    "# Converting text to lowercase\n",
    "blog['Data'] = blog['Data'].str.lower()"
   ]
  },
  {
   "cell_type": "code",
   "execution_count": 29,
   "id": "07b338eb-4dab-4fda-a138-010d67a79574",
   "metadata": {},
   "outputs": [],
   "source": [
    "import string"
   ]
  },
  {
   "cell_type": "code",
   "execution_count": 31,
   "id": "4ec28493-a571-4eaf-9549-bb3bd62e8163",
   "metadata": {},
   "outputs": [],
   "source": [
    "# Removing punctuation\n",
    "blog['Data'] = blog['Data'].str.replace('[{}]'.format(string.punctuation), '', regex=True)"
   ]
  },
  {
   "cell_type": "code",
   "execution_count": 39,
   "id": "0d3ddaa7-008a-47c2-946d-e7df7babb3c0",
   "metadata": {},
   "outputs": [],
   "source": [
    "import nltk"
   ]
  },
  {
   "cell_type": "code",
   "execution_count": 43,
   "id": "eeb900fd-759d-41ab-959c-18df01c74197",
   "metadata": {},
   "outputs": [
    {
     "name": "stderr",
     "output_type": "stream",
     "text": [
      "[nltk_data] Downloading package punkt to\n",
      "[nltk_data]     C:\\Users\\dell\\AppData\\Roaming\\nltk_data...\n",
      "[nltk_data]   Unzipping tokenizers\\punkt.zip.\n"
     ]
    },
    {
     "data": {
      "text/plain": [
       "True"
      ]
     },
     "execution_count": 43,
     "metadata": {},
     "output_type": "execute_result"
    }
   ],
   "source": [
    "nltk.download('punkt')"
   ]
  },
  {
   "cell_type": "code",
   "execution_count": 45,
   "id": "2d56163b-6b3b-4d41-9455-ef7d3a8288bf",
   "metadata": {},
   "outputs": [],
   "source": [
    "# Tokenize the text\n",
    "from nltk.tokenize import word_tokenize\n",
    "blog['Data'] = blog['Data'].apply(word_tokenize)"
   ]
  },
  {
   "cell_type": "code",
   "execution_count": 47,
   "id": "246aebdb-d624-445b-8749-da6f6ee0e05c",
   "metadata": {},
   "outputs": [
    {
     "name": "stderr",
     "output_type": "stream",
     "text": [
      "[nltk_data] Downloading package stopwords to\n",
      "[nltk_data]     C:\\Users\\dell\\AppData\\Roaming\\nltk_data...\n",
      "[nltk_data]   Unzipping corpora\\stopwords.zip.\n"
     ]
    }
   ],
   "source": [
    "# Downloading stopwords list if not already downloaded\n",
    "from nltk.corpus import stopwords\n",
    "\n",
    "nltk.download('stopwords')\n",
    "stop_words = set(stopwords.words('english'))"
   ]
  },
  {
   "cell_type": "code",
   "execution_count": 49,
   "id": "7e728be8-e278-4052-a36f-db2bd99dc378",
   "metadata": {},
   "outputs": [],
   "source": [
    "# Removing stopwords\n",
    "blog['Data'] = blog['Data'].apply(lambda x: [word for word in x if word not in stop_words])"
   ]
  },
  {
   "cell_type": "code",
   "execution_count": 51,
   "id": "a9b4bfd3-06bf-4408-be46-cfc7b7607948",
   "metadata": {},
   "outputs": [],
   "source": [
    "# Joining the tokens back into a string\n",
    "blog['Data'] = blog['Data'].apply(lambda x: ' '.join(x))"
   ]
  },
  {
   "cell_type": "code",
   "execution_count": 53,
   "id": "1f7a44ab-a745-48ec-a73e-294a734fa90b",
   "metadata": {},
   "outputs": [
    {
     "name": "stdout",
     "output_type": "stream",
     "text": [
      "\n",
      "Feature matrix shape: (2000, 5000)\n",
      "Labels shape: (2000,)\n"
     ]
    }
   ],
   "source": [
    "# Feature Extraction using TF-IDF\n",
    "from sklearn.feature_extraction.text import TfidfVectorizer\n",
    "\n",
    "tfidf_vectorizer = TfidfVectorizer(max_features=5000)  # You can adjust max_features as needed\n",
    "X = tfidf_vectorizer.fit_transform(blog['Data'])\n",
    "\n",
    "# Convert labels to a numeric format if necessary\n",
    "y = blog['Labels']\n",
    "\n",
    "print(\"\\nFeature matrix shape:\", X.shape)\n",
    "print(\"Labels shape:\", y.shape)"
   ]
  },
  {
   "cell_type": "markdown",
   "id": "a5f7aa79-5cd0-49cf-a84e-8fe45923b891",
   "metadata": {},
   "source": [
    "1. Explanation:\n",
    "  \n",
    "- Loading the Dataset: The dataset is loaded using pandas, and the first few rows are displayed to understand its structure.\n",
    "\n",
    "- Data Exploration: Missing values are checked.The distribution of categories is analyzed.\n",
    "  \n",
    "2. Preprocessing:\n",
    "  \n",
    "- Text Cleaning: Converting text to lowercase and removing punctuation.\n",
    "  \n",
    "- Tokenization: Splitting the text into individual words.\n",
    "  \n",
    "- Stopwords Removal: Removing common words that don't contribute to the meaning.\n",
    "  \n",
    "- Rejoining Tokens: Joining the words back into a single string.\n",
    "  \n",
    "3. Feature Extraction:\n",
    "\n",
    "- TF-IDF Vectorization: Converting the cleaned text into numerical features that can be used by a machine learning model."
   ]
  },
  {
   "cell_type": "code",
   "execution_count": null,
   "id": "62c3514b-a42a-4128-867e-ddbcf05ce149",
   "metadata": {},
   "outputs": [],
   "source": []
  },
  {
   "cell_type": "code",
   "execution_count": null,
   "id": "837cfb0d-88ac-4800-8775-6defeabe4d94",
   "metadata": {},
   "outputs": [],
   "source": []
  },
  {
   "cell_type": "markdown",
   "id": "f67317d2-6b2d-4108-9523-93c8cc09d944",
   "metadata": {},
   "source": [
    "# Task 2. Naive Bayes Model for Text Classification\n",
    "\n",
    "•\tSplit the data into training and test sets.\n",
    "\n",
    "•\tImplement a Naive Bayes classifier to categorize the blog posts into their respective categories. You can use libraries like scikit-learn for this      purpose.\n",
    "\n",
    "•\tTrain the model on the training set and make predictions on the test set.\n"
   ]
  },
  {
   "cell_type": "code",
   "execution_count": null,
   "id": "dfd61ffb-bfa7-4eba-adf7-7d4612048453",
   "metadata": {},
   "outputs": [],
   "source": []
  },
  {
   "cell_type": "code",
   "execution_count": 58,
   "id": "cbfeff0b-8066-4784-a2fc-b44abc38426e",
   "metadata": {},
   "outputs": [],
   "source": [
    "# Spliting the data into training and test sets (80% train, 20% test)\n",
    "from sklearn.model_selection import train_test_split\n",
    "X_train, X_test, y_train, y_test = train_test_split(X, y, test_size=0.2, random_state=42)"
   ]
  },
  {
   "cell_type": "code",
   "execution_count": 60,
   "id": "885a8a52-bfb5-4cce-a6ac-feff9571c00a",
   "metadata": {},
   "outputs": [],
   "source": [
    "# Naive Bayes \n",
    "from sklearn.naive_bayes import MultinomialNB\n",
    "nb = MultinomialNB()\n",
    "\n",
    "# Train the model on the training set\n",
    "nb.fit(X_train, y_train)\n",
    "\n",
    "# Making predictions on the test set\n",
    "pred = nb.predict(X_test)"
   ]
  },
  {
   "cell_type": "code",
   "execution_count": 62,
   "id": "621db3e1-58a3-4ea9-82f1-435f84206c80",
   "metadata": {},
   "outputs": [
    {
     "name": "stdout",
     "output_type": "stream",
     "text": [
      "Accuracy of the Naive Bayes model: 0.825\n",
      "\n",
      "Confusion Matrix:\n",
      " [[15  0  0  0  0  0  0  0  0  0  0  1  0  0  0  0  0  0  0  2]\n",
      " [ 0 15  1  1  0  0  0  0  0  0  1  0  0  0  0  0  0  0  0  0]\n",
      " [ 0  0 18  2  1  1  0  0  0  0  0  0  0  0  0  0  0  0  0  0]\n",
      " [ 0  0  1 19  0  0  1  0  0  0  0  0  4  0  0  0  0  0  0  0]\n",
      " [ 0  0  0  2 19  0  0  0  0  0  0  0  0  0  0  0  0  0  0  0]\n",
      " [ 0  2  0  1  0 21  0  0  0  1  0  0  0  0  0  0  0  0  0  0]\n",
      " [ 0  0  1  0  1  0 14  1  0  1  0  0  0  0  0  0  0  0  0  0]\n",
      " [ 0  0  0  0  0  0  0 17  1  0  0  0  0  0  0  0  0  0  0  0]\n",
      " [ 0  0  0  0  0  0  0  0 15  0  0  0  1  0  0  0  0  0  0  0]\n",
      " [ 0  0  0  0  0  0  0  0  0 17  1  0  0  0  0  0  0  0  0  0]\n",
      " [ 0  0  0  0  0  0  0  0  0  0 15  0  0  0  0  0  0  0  0  0]\n",
      " [ 0  0  0  0  0  0  0  0  0  0  0 18  0  0  0  0  0  0  1  0]\n",
      " [ 0  0  0  0  2  0  1  1  0  1  0  0 10  1  0  0  0  0  0  0]\n",
      " [ 0  1  0  0  0  1  0  0  0  0  0  0  0 15  0  0  0  0  0  0]\n",
      " [ 0  0  0  0  0  0  1  0  0  1  0  0  0  0 18  0  1  0  0  0]\n",
      " [ 1  0  0  0  0  0  0  0  0  0  0  0  0  0  0 22  0  0  0  0]\n",
      " [ 1  0  0  0  0  0  0  0  0  0  0  0  1  1  0  1 22  0  2  0]\n",
      " [ 1  0  0  0  0  0  0  0  0  1  0  0  0  0  0  0  0 18  0  0]\n",
      " [ 0  0  0  0  0  0  0  0  0  0  0  0  0  0  0  0  0  0 16  2]\n",
      " [12  0  0  0  0  0  0  0  0  0  0  0  0  0  0  2  3  0  1  6]]\n",
      "\n",
      "Classification Report:\n",
      "                           precision    recall  f1-score   support\n",
      "\n",
      "             alt.atheism       0.50      0.83      0.62        18\n",
      "           comp.graphics       0.83      0.83      0.83        18\n",
      " comp.os.ms-windows.misc       0.86      0.82      0.84        22\n",
      "comp.sys.ibm.pc.hardware       0.76      0.76      0.76        25\n",
      "   comp.sys.mac.hardware       0.83      0.90      0.86        21\n",
      "          comp.windows.x       0.91      0.84      0.88        25\n",
      "            misc.forsale       0.82      0.78      0.80        18\n",
      "               rec.autos       0.89      0.94      0.92        18\n",
      "         rec.motorcycles       0.94      0.94      0.94        16\n",
      "      rec.sport.baseball       0.77      0.94      0.85        18\n",
      "        rec.sport.hockey       0.88      1.00      0.94        15\n",
      "               sci.crypt       0.95      0.95      0.95        19\n",
      "         sci.electronics       0.62      0.62      0.62        16\n",
      "                 sci.med       0.88      0.88      0.88        17\n",
      "               sci.space       1.00      0.86      0.92        21\n",
      "  soc.religion.christian       0.88      0.96      0.92        23\n",
      "      talk.politics.guns       0.85      0.79      0.81        28\n",
      "   talk.politics.mideast       1.00      0.90      0.95        20\n",
      "      talk.politics.misc       0.80      0.89      0.84        18\n",
      "      talk.religion.misc       0.60      0.25      0.35        24\n",
      "\n",
      "                accuracy                           0.82       400\n",
      "               macro avg       0.83      0.83      0.82       400\n",
      "            weighted avg       0.83      0.82      0.82       400\n",
      "\n"
     ]
    }
   ],
   "source": [
    "# Evaluating the model\n",
    "from sklearn.metrics import accuracy_score, classification_report, confusion_matrix\n",
    "accuracy = accuracy_score(y_test, pred)\n",
    "conf_matrix = confusion_matrix(y_test, pred)\n",
    "class_report = classification_report(y_test, pred)\n",
    "\n",
    "print(\"Accuracy of the Naive Bayes model:\", accuracy)\n",
    "print(\"\\nConfusion Matrix:\\n\", conf_matrix)\n",
    "print(\"\\nClassification Report:\\n\", class_report)"
   ]
  },
  {
   "cell_type": "markdown",
   "id": "2d17d768-5d05-4627-a06b-68bf03c3a270",
   "metadata": {},
   "source": [
    "- As here we can see the overall accuracy is  0.82 , macro avg is 0.82 and weighted avg is 0.82."
   ]
  },
  {
   "cell_type": "code",
   "execution_count": null,
   "id": "51719a9d-4556-49e4-b260-cb3a4f65b003",
   "metadata": {},
   "outputs": [],
   "source": []
  },
  {
   "cell_type": "code",
   "execution_count": null,
   "id": "66cbea12-25cb-45a2-94d7-0e782e99df7c",
   "metadata": {},
   "outputs": [],
   "source": []
  },
  {
   "cell_type": "markdown",
   "id": "c6c1aba2-d560-46a9-92e1-fd26bda4ab88",
   "metadata": {},
   "source": [
    "# Task3. Sentiment Analysis\n",
    "•\tChoose a suitable library or method for performing sentiment analysis on the blog post texts.\n",
    "\n",
    "•\tAnalyze the sentiments expressed in the blog posts and categorize them as positive, negative, or neutral. Consider only the     Data column and get the sentiment for each blog.\n",
    "\n",
    "•\tExamine the distribution of sentiments across different categories and summarize your findings."
   ]
  },
  {
   "cell_type": "code",
   "execution_count": null,
   "id": "8ec308c4-34a4-44fb-9959-e7141ee69d38",
   "metadata": {},
   "outputs": [],
   "source": []
  },
  {
   "cell_type": "markdown",
   "id": "52b8a37c-2892-4b6c-b05f-1fab344d9ac5",
   "metadata": {},
   "source": [
    "- To perform sentiment analysis on the blog post texts, we will use libraries like VADER (Valence Aware Dictionary and sEntiment Reasoner) from the nltk package or TextBlob."
   ]
  },
  {
   "cell_type": "code",
   "execution_count": null,
   "id": "bb34ccf7-b8e4-4a60-a93e-8ed6a68e7883",
   "metadata": {},
   "outputs": [],
   "source": []
  },
  {
   "cell_type": "code",
   "execution_count": 72,
   "id": "6ebb8fff-571a-45ba-8f14-2de3835310b8",
   "metadata": {},
   "outputs": [
    {
     "name": "stderr",
     "output_type": "stream",
     "text": [
      "[nltk_data] Downloading package vader_lexicon to\n",
      "[nltk_data]     C:\\Users\\dell\\AppData\\Roaming\\nltk_data...\n"
     ]
    },
    {
     "name": "stdout",
     "output_type": "stream",
     "text": [
      "Sentiment Distribution Across Categories:\n",
      "Sentiment_Category        Negative  Neutral  Positive\n",
      "Labels                                               \n",
      "alt.atheism                     40        1        59\n",
      "comp.graphics                   10        3        87\n",
      "comp.os.ms-windows.misc         22        2        76\n",
      "comp.sys.ibm.pc.hardware        18        3        79\n",
      "comp.sys.mac.hardware           17        4        79\n",
      "comp.windows.x                  21        2        77\n",
      "misc.forsale                     8       10        82\n",
      "rec.autos                       26        3        71\n",
      "rec.motorcycles                 32        1        67\n",
      "rec.sport.baseball              24        3        73\n",
      "rec.sport.hockey                28        3        69\n",
      "sci.crypt                       22        2        76\n",
      "sci.electronics                 13        6        81\n",
      "sci.med                         28        2        70\n",
      "sci.space                       28        5        67\n",
      "soc.religion.christian          27        1        72\n",
      "talk.politics.guns              65        5        30\n",
      "talk.politics.mideast           68        0        32\n",
      "talk.politics.misc              52        5        43\n",
      "talk.religion.misc              32        2        66\n"
     ]
    },
    {
     "data": {
      "image/png": "[encoded data removed]",
      "text/plain": [
       "<Figure size 1000x700 with 1 Axes>"
      ]
     },
     "metadata": {},
     "output_type": "display_data"
    }
   ],
   "source": [
    "import nltk\n",
    "from nltk.sentiment import SentimentIntensityAnalyzer\n",
    "import seaborn as sns\n",
    "import matplotlib.pyplot as plt\n",
    "\n",
    "# Download the VADER lexicon if not already downloaded\n",
    "nltk.download('vader_lexicon')\n",
    "\n",
    "# Initialize the Sentiment Intensity Analyzer\n",
    "sia = SentimentIntensityAnalyzer()\n",
    "\n",
    "# Function to categorize sentiment\n",
    "def get_sentiment(score):\n",
    "    if score >= 0.05:\n",
    "        return 'Positive'\n",
    "    elif score <= -0.05:\n",
    "        return 'Negative'\n",
    "    else:\n",
    "        return 'Neutral'\n",
    "\n",
    "# Analyze sentiment for each blog post\n",
    "blog['Sentiment'] = blog['Data'].apply(lambda x: sia.polarity_scores(x)['compound'])\n",
    "blog['Sentiment_Category'] = blog['Sentiment'].apply(get_sentiment)\n",
    "\n",
    "# Examine the distribution of sentiments across different categories\n",
    "sentiment_distribution = pd.crosstab(blog['Labels'], blog['Sentiment_Category'])\n",
    "\n",
    "# Display the distribution\n",
    "print(\"Sentiment Distribution Across Categories:\")\n",
    "print(sentiment_distribution)\n",
    "\n",
    "# Plotting the sentiment distribution\n",
    "sentiment_distribution.plot(kind='bar', stacked=True, figsize=(10, 7))\n",
    "plt.title(\"Sentiment Distribution Across Blog Categories\")\n",
    "plt.xlabel(\"Blog Categories\")\n",
    "plt.ylabel(\"Number of Blog Posts\")\n",
    "plt.show()"
   ]
  },
  {
   "cell_type": "code",
   "execution_count": null,
   "id": "9d7a337b-d43b-45ca-9b72-a169eabc121c",
   "metadata": {},
   "outputs": [],
   "source": []
  },
  {
   "cell_type": "markdown",
   "id": "3fce774c-7abf-40cb-acc2-1ff888feb058",
   "metadata": {},
   "source": [
    "## Observation\n",
    "\n",
    "- We have used the VADER sentiment analyzer from the nltk library to perform sentiment analysis on the blog post texts.\n",
    "\n",
    "- Categorized the sentiments into three categories: Positive, Negative, and Neutral.\n",
    "     - Positive: Sentiment score ≥ 0.05\n",
    "     - Negative: Sentiment score ≤ -0.05\n",
    "     - Neutral: Sentiment score between -0.05 and 0.05\n",
    "     \n",
    "- Analyzed the distribution of these sentiments across different blog categories.\n",
    "\n",
    "- We then visualized the sentiment distribution using a stacked bar plot to highlight the sentiment trends within each category."
   ]
  },
  {
   "cell_type": "code",
   "execution_count": null,
   "id": "5bb97a24-2846-4fa5-8ff0-c47fd114b065",
   "metadata": {},
   "outputs": [],
   "source": []
  },
  {
   "cell_type": "code",
   "execution_count": null,
   "id": "f41edb1a-40fa-4b9f-ae56-b893bd974d86",
   "metadata": {},
   "outputs": [],
   "source": []
  },
  {
   "cell_type": "markdown",
   "id": "ece3cfc2-c099-48c0-a2d8-02aae8047c71",
   "metadata": {},
   "source": [
    "# Task 4. Evaluation\n",
    "•\tEvaluate the performance of your Naive Bayes classifier using metrics such as accuracy, precision, recall, and F1-score.\n",
    "\n",
    "•\tDiscuss the performance of the model and any challenges encountered during the classification process.\n",
    "\n",
    "•\tReflect on the sentiment analysis results and their implications regarding the content of the blog posts.\n"
   ]
  },
  {
   "cell_type": "code",
   "execution_count": null,
   "id": "8be4fd0e-4421-4812-af25-ad36d83b630f",
   "metadata": {},
   "outputs": [],
   "source": []
  },
  {
   "cell_type": "code",
   "execution_count": 77,
   "id": "d201bcfc-ea3e-408e-a8d8-bee49bc1f99c",
   "metadata": {},
   "outputs": [
    {
     "name": "stdout",
     "output_type": "stream",
     "text": [
      "Accuracy of the Naive Bayes model: 0.825\n",
      "\n",
      "Classification Report:\n",
      "                           precision    recall  f1-score   support\n",
      "\n",
      "             alt.atheism       0.50      0.83      0.62        18\n",
      "           comp.graphics       0.83      0.83      0.83        18\n",
      " comp.os.ms-windows.misc       0.86      0.82      0.84        22\n",
      "comp.sys.ibm.pc.hardware       0.76      0.76      0.76        25\n",
      "   comp.sys.mac.hardware       0.83      0.90      0.86        21\n",
      "          comp.windows.x       0.91      0.84      0.88        25\n",
      "            misc.forsale       0.82      0.78      0.80        18\n",
      "               rec.autos       0.89      0.94      0.92        18\n",
      "         rec.motorcycles       0.94      0.94      0.94        16\n",
      "      rec.sport.baseball       0.77      0.94      0.85        18\n",
      "        rec.sport.hockey       0.88      1.00      0.94        15\n",
      "               sci.crypt       0.95      0.95      0.95        19\n",
      "         sci.electronics       0.62      0.62      0.62        16\n",
      "                 sci.med       0.88      0.88      0.88        17\n",
      "               sci.space       1.00      0.86      0.92        21\n",
      "  soc.religion.christian       0.88      0.96      0.92        23\n",
      "      talk.politics.guns       0.85      0.79      0.81        28\n",
      "   talk.politics.mideast       1.00      0.90      0.95        20\n",
      "      talk.politics.misc       0.80      0.89      0.84        18\n",
      "      talk.religion.misc       0.60      0.25      0.35        24\n",
      "\n",
      "                accuracy                           0.82       400\n",
      "               macro avg       0.83      0.83      0.82       400\n",
      "            weighted avg       0.83      0.82      0.82       400\n",
      "\n"
     ]
    }
   ],
   "source": [
    "# Calculate accuracy, precision, recall, and F1-score\n",
    "accuracy = accuracy_score(y_test, pred)\n",
    "class_report = classification_report(y_test, pred)\n",
    "\n",
    "print(\"Accuracy of the Naive Bayes model:\", accuracy)\n",
    "print(\"\\nClassification Report:\\n\", class_report)"
   ]
  },
  {
   "cell_type": "code",
   "execution_count": null,
   "id": "08913a7f-01eb-4d13-ae76-f993823eb374",
   "metadata": {},
   "outputs": [],
   "source": []
  },
  {
   "cell_type": "markdown",
   "id": "b4d0ea07-3d2e-48d2-8223-a09761604d99",
   "metadata": {},
   "source": [
    "### Task 4: Evaluation\n",
    "\n",
    "#### *Model Performance and Challenges*\n",
    "\n",
    "- *Overall Performance*: The Naive Bayes classifier achieved an accuracy of 82.5%, indicating that the model performed reasonably well in classifying the blog posts into their respective categories.\n",
    "\n",
    "- *Strengths*:\n",
    "  \n",
    "  - Categories like rec.motorcycles, rec.sport.hockey, and sci.crypt exhibited high precision, recall, and F1-scores, reflecting the model's strong performance in distinguishing these topics.\n",
    "    \n",
    "  \n",
    "- *Challenges*:\n",
    "  \n",
    "  - *Imbalanced Categories*: The model struggled with categories such as alt.atheism and talk.religion.misc, which had lower precision and recall. This suggests that the model may have difficulty in distinguishing between categories with overlapping or complex features.\n",
    "    \n",
    "  - *Low-Performing Categories*: The talk.religion.misc category, in particular, had the lowest F1-score, indicating significant challenges in correctly classifying blog posts related to this topic.\n",
    "\n",
    "#### *Reflection on Sentiment Analysis Results*\n",
    "\n",
    "- *Positive Sentiment Dominance*: Categories like comp.graphics, misc.forsale, and sci.electronics were predominantly positive, suggesting that content related to technology and commerce tends to be well-received by readers.\n",
    "\n",
    "- *Negative Sentiment Prevalence*: Categories such as talk.politics.guns and talk.politics.mideast had higher proportions of negative sentiment. This indicates that these topics may be more contentious or evoke stronger negative reactions from readers.\n",
    "\n",
    "- *Implications*:\n",
    "  \n",
    "  - *Content Strategy*: The sentiment analysis provides valuable insights for content creators. Positive sentiment dominance in certain categories suggests that readers find these topics engaging or enjoyable. Conversely, the prevalence of negative sentiment in political categories could guide content creators to approach these topics with sensitivity or balance.\n",
    "    \n",
    "  - *Audience Engagement*: Understanding the sentiment distribution across categories can help tailor content to better align with reader preferences, potentially improving engagement and satisfaction.\n",
    "\n",
    "These reflections highlight both the strengths and areas for improvement in the model's performance and provide actionable insights from the sentiment analysis regarding the content of the blog posts."
   ]
  },
  {
   "cell_type": "code",
   "execution_count": null,
   "id": "1e2cea24-34ff-491e-ab40-206a26dac9f2",
   "metadata": {},
   "outputs": [],
   "source": []
  },
  {
   "cell_type": "markdown",
   "id": "e4bffe01-77c3-4663-9ac2-93bc428e2cb6",
   "metadata": {},
   "source": [
    "### Evaluation of the Sentiment Analysis and Report Based on Code Results\n",
    "\n",
    "#### *Depth and Insightfulness of the Sentiment Analysis*\n",
    "- *Strengths*: \n",
    "  - The sentiment analysis effectively categorized sentiments across different blog categories, revealing significant insights such as the predominance of positive sentiment in categories like comp.graphics, misc.forsale, and sci.electronics.\n",
    "  - The analysis identified categories with strong negative sentiments, such as talk.politics.guns and talk.politics.mideast, highlighting the contentious nature of these topics.\n",
    "\n",
    "#### *Clarity and Thoroughness of the Evaluation and Discussion Sections*\n",
    "- *Clarity*: \n",
    "  - The evaluation section clearly presented the Naive Bayes model's performance, with a focus on key metrics like accuracy (82.5%) and the performance of individual categories.\n",
    "  - The discussion on sentiment analysis was clear, linking the sentiment results to potential implications for content strategy and reader engagement.\n",
    "\n",
    "- *Thoroughness*: \n",
    "  - The discussion thoroughly addressed both the strengths and challenges of the Naive Bayes model. It identified categories like rec.sport.hockey and sci.crypt as strong performers while highlighting challenges in categories like alt.atheism and talk.religion.misc.\n",
    "  - The sentiment analysis discussion connected the results to broader content strategy implications, making it relevant and actionable.\n",
    "\n",
    "#### *Overall Quality and Organization of the Report and Code*\n",
    "- *Quality*: \n",
    "  - The code was well-organized, with appropriate preprocessing steps such as text cleaning, tokenization, and TF-IDF feature extraction. The model implementation was clear, and the results were presented effectively.\n",
    "  - The report was well-structured, with clear sections for data exploration, model evaluation, and sentiment analysis, making it easy to follow.\n",
    "\n",
    "- *Organization*: \n",
    "  - The report maintained a logical flow, starting from data exploration to model evaluation and concluding with sentiment analysis. Each section was clearly demarcated and focused on specific tasks.\n",
    "  - Visualizations such as the sentiment distribution table were effectively used to support the analysis.\n",
    "\n",
    "### Summary\n",
    "This report and code demonstrates a solid execution of sentiment analysis and model evaluation. The analysis was insightful with clear connections to potential content strategies.This report offers us even deeper insights and a more polished presentation."
   ]
  },
  {
   "cell_type": "code",
   "execution_count": null,
   "id": "7f507790-43d0-470c-a681-ae200f675109",
   "metadata": {},
   "outputs": [],
   "source": []
  },
  {
   "cell_type": "code",
   "execution_count": null,
   "id": "464e2031-a234-4d94-9579-c62311fd7695",
   "metadata": {},
   "outputs": [],
   "source": []
  },
  {
   "cell_type": "markdown",
   "id": "1212717d-af13-4a35-aaba-d5bc5265b6a7",
   "metadata": {},
   "source": [
    "## Thank You!\n",
    "- Hamza Khan"
   ]
  }
 ],
 "metadata": {
  "kernelspec": {
   "display_name": "Python 3 (ipykernel)",
   "language": "python",
   "name": "python3"
  },
  "language_info": {
   "codemirror_mode": {
    "name": "ipython",
    "version": 3
   },
   "file_extension": ".py",
   "mimetype": "text/x-python",
   "name": "python",
   "nbconvert_exporter": "python",
   "pygments_lexer": "ipython3",
   "version": "3.12.4"
  }
 },
 "nbformat": 4,
 "nbformat_minor": 5
}
