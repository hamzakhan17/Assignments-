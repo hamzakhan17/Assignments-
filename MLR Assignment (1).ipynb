{
 "cells": [
  {
   "cell_type": "code",
   "execution_count": 1,
   "id": "e12116af-3c07-4a6c-b165-cd8ae81a62d6",
   "metadata": {},
   "outputs": [],
   "source": [
    "import pandas as pd"
   ]
  },
  {
   "cell_type": "code",
   "execution_count": 2,
   "id": "e3a48d13-2096-4369-bb4b-753b3be63a21",
   "metadata": {},
   "outputs": [
    {
     "data": {
      "text/html": [
       "<div>\n",
       "<style scoped>\n",
       "    .dataframe tbody tr th:only-of-type {\n",
       "        vertical-align: middle;\n",
       "    }\n",
       "\n",
       "    .dataframe tbody tr th {\n",
       "        vertical-align: top;\n",
       "    }\n",
       "\n",
       "    .dataframe thead th {\n",
       "        text-align: right;\n",
       "    }\n",
       "</style>\n",
       "<table border=\"1\" class=\"dataframe\">\n",
       "  <thead>\n",
       "    <tr style=\"text-align: right;\">\n",
       "      <th></th>\n",
       "      <th>Price</th>\n",
       "      <th>Age_08_04</th>\n",
       "      <th>KM</th>\n",
       "      <th>Fuel_Type</th>\n",
       "      <th>HP</th>\n",
       "      <th>Automatic</th>\n",
       "      <th>cc</th>\n",
       "      <th>Doors</th>\n",
       "      <th>Cylinders</th>\n",
       "      <th>Gears</th>\n",
       "      <th>Weight</th>\n",
       "    </tr>\n",
       "  </thead>\n",
       "  <tbody>\n",
       "    <tr>\n",
       "      <th>0</th>\n",
       "      <td>13500</td>\n",
       "      <td>23</td>\n",
       "      <td>46986</td>\n",
       "      <td>Diesel</td>\n",
       "      <td>90</td>\n",
       "      <td>0</td>\n",
       "      <td>2000</td>\n",
       "      <td>3</td>\n",
       "      <td>4</td>\n",
       "      <td>5</td>\n",
       "      <td>1165</td>\n",
       "    </tr>\n",
       "    <tr>\n",
       "      <th>1</th>\n",
       "      <td>13750</td>\n",
       "      <td>23</td>\n",
       "      <td>72937</td>\n",
       "      <td>Diesel</td>\n",
       "      <td>90</td>\n",
       "      <td>0</td>\n",
       "      <td>2000</td>\n",
       "      <td>3</td>\n",
       "      <td>4</td>\n",
       "      <td>5</td>\n",
       "      <td>1165</td>\n",
       "    </tr>\n",
       "    <tr>\n",
       "      <th>2</th>\n",
       "      <td>13950</td>\n",
       "      <td>24</td>\n",
       "      <td>41711</td>\n",
       "      <td>Diesel</td>\n",
       "      <td>90</td>\n",
       "      <td>0</td>\n",
       "      <td>2000</td>\n",
       "      <td>3</td>\n",
       "      <td>4</td>\n",
       "      <td>5</td>\n",
       "      <td>1165</td>\n",
       "    </tr>\n",
       "    <tr>\n",
       "      <th>3</th>\n",
       "      <td>14950</td>\n",
       "      <td>26</td>\n",
       "      <td>48000</td>\n",
       "      <td>Diesel</td>\n",
       "      <td>90</td>\n",
       "      <td>0</td>\n",
       "      <td>2000</td>\n",
       "      <td>3</td>\n",
       "      <td>4</td>\n",
       "      <td>5</td>\n",
       "      <td>1165</td>\n",
       "    </tr>\n",
       "    <tr>\n",
       "      <th>4</th>\n",
       "      <td>13750</td>\n",
       "      <td>30</td>\n",
       "      <td>38500</td>\n",
       "      <td>Diesel</td>\n",
       "      <td>90</td>\n",
       "      <td>0</td>\n",
       "      <td>2000</td>\n",
       "      <td>3</td>\n",
       "      <td>4</td>\n",
       "      <td>5</td>\n",
       "      <td>1170</td>\n",
       "    </tr>\n",
       "    <tr>\n",
       "      <th>...</th>\n",
       "      <td>...</td>\n",
       "      <td>...</td>\n",
       "      <td>...</td>\n",
       "      <td>...</td>\n",
       "      <td>...</td>\n",
       "      <td>...</td>\n",
       "      <td>...</td>\n",
       "      <td>...</td>\n",
       "      <td>...</td>\n",
       "      <td>...</td>\n",
       "      <td>...</td>\n",
       "    </tr>\n",
       "    <tr>\n",
       "      <th>1431</th>\n",
       "      <td>7500</td>\n",
       "      <td>69</td>\n",
       "      <td>20544</td>\n",
       "      <td>Petrol</td>\n",
       "      <td>86</td>\n",
       "      <td>0</td>\n",
       "      <td>1300</td>\n",
       "      <td>3</td>\n",
       "      <td>4</td>\n",
       "      <td>5</td>\n",
       "      <td>1025</td>\n",
       "    </tr>\n",
       "    <tr>\n",
       "      <th>1432</th>\n",
       "      <td>10845</td>\n",
       "      <td>72</td>\n",
       "      <td>19000</td>\n",
       "      <td>Petrol</td>\n",
       "      <td>86</td>\n",
       "      <td>0</td>\n",
       "      <td>1300</td>\n",
       "      <td>3</td>\n",
       "      <td>4</td>\n",
       "      <td>5</td>\n",
       "      <td>1015</td>\n",
       "    </tr>\n",
       "    <tr>\n",
       "      <th>1433</th>\n",
       "      <td>8500</td>\n",
       "      <td>71</td>\n",
       "      <td>17016</td>\n",
       "      <td>Petrol</td>\n",
       "      <td>86</td>\n",
       "      <td>0</td>\n",
       "      <td>1300</td>\n",
       "      <td>3</td>\n",
       "      <td>4</td>\n",
       "      <td>5</td>\n",
       "      <td>1015</td>\n",
       "    </tr>\n",
       "    <tr>\n",
       "      <th>1434</th>\n",
       "      <td>7250</td>\n",
       "      <td>70</td>\n",
       "      <td>16916</td>\n",
       "      <td>Petrol</td>\n",
       "      <td>86</td>\n",
       "      <td>0</td>\n",
       "      <td>1300</td>\n",
       "      <td>3</td>\n",
       "      <td>4</td>\n",
       "      <td>5</td>\n",
       "      <td>1015</td>\n",
       "    </tr>\n",
       "    <tr>\n",
       "      <th>1435</th>\n",
       "      <td>6950</td>\n",
       "      <td>76</td>\n",
       "      <td>1</td>\n",
       "      <td>Petrol</td>\n",
       "      <td>110</td>\n",
       "      <td>0</td>\n",
       "      <td>1600</td>\n",
       "      <td>5</td>\n",
       "      <td>4</td>\n",
       "      <td>5</td>\n",
       "      <td>1114</td>\n",
       "    </tr>\n",
       "  </tbody>\n",
       "</table>\n",
       "<p>1436 rows × 11 columns</p>\n",
       "</div>"
      ],
      "text/plain": [
       "      Price  Age_08_04     KM Fuel_Type   HP  Automatic    cc  Doors  \\\n",
       "0     13500         23  46986    Diesel   90          0  2000      3   \n",
       "1     13750         23  72937    Diesel   90          0  2000      3   \n",
       "2     13950         24  41711    Diesel   90          0  2000      3   \n",
       "3     14950         26  48000    Diesel   90          0  2000      3   \n",
       "4     13750         30  38500    Diesel   90          0  2000      3   \n",
       "...     ...        ...    ...       ...  ...        ...   ...    ...   \n",
       "1431   7500         69  20544    Petrol   86          0  1300      3   \n",
       "1432  10845         72  19000    Petrol   86          0  1300      3   \n",
       "1433   8500         71  17016    Petrol   86          0  1300      3   \n",
       "1434   7250         70  16916    Petrol   86          0  1300      3   \n",
       "1435   6950         76      1    Petrol  110          0  1600      5   \n",
       "\n",
       "      Cylinders  Gears  Weight  \n",
       "0             4      5    1165  \n",
       "1             4      5    1165  \n",
       "2             4      5    1165  \n",
       "3             4      5    1165  \n",
       "4             4      5    1170  \n",
       "...         ...    ...     ...  \n",
       "1431          4      5    1025  \n",
       "1432          4      5    1015  \n",
       "1433          4      5    1015  \n",
       "1434          4      5    1015  \n",
       "1435          4      5    1114  \n",
       "\n",
       "[1436 rows x 11 columns]"
      ]
     },
     "execution_count": 2,
     "metadata": {},
     "output_type": "execute_result"
    }
   ],
   "source": [
    "toyota = pd.read_csv(r'file:///C:\\Users\\dell\\AppData\\Local\\Temp\\80d1bcc2-a488-4cab-84ff-fdac64209866_MLR.zip.866\\MLR\\ToyotaCorolla%20-%20MLR.csv')\n",
    "toyota"
   ]
  },
  {
   "cell_type": "code",
   "execution_count": null,
   "id": "6d0c569f-6c24-4770-b24b-988dbd47aba3",
   "metadata": {},
   "outputs": [],
   "source": []
  },
  {
   "cell_type": "markdown",
   "id": "e3f01ede-648c-407d-81ce-d03a0b940123",
   "metadata": {},
   "source": [
    "# Task 1"
   ]
  },
  {
   "cell_type": "markdown",
   "id": "d8940ff6-7877-44eb-b973-2d34c0ff60e3",
   "metadata": {},
   "source": [
    "# EDA"
   ]
  },
  {
   "cell_type": "code",
   "execution_count": null,
   "id": "e7a6c3b8-ea6c-4774-a4de-737f647d91bb",
   "metadata": {},
   "outputs": [],
   "source": []
  },
  {
   "cell_type": "code",
   "execution_count": 4,
   "id": "31780277-f3b1-4223-8fac-84a594756866",
   "metadata": {},
   "outputs": [
    {
     "data": {
      "text/plain": [
       "Index(['Price', 'Age_08_04', 'KM', 'Fuel_Type', 'HP', 'Automatic', 'cc',\n",
       "       'Doors', 'Cylinders', 'Gears', 'Weight'],\n",
       "      dtype='object')"
      ]
     },
     "execution_count": 4,
     "metadata": {},
     "output_type": "execute_result"
    }
   ],
   "source": [
    "toyota.columns"
   ]
  },
  {
   "cell_type": "code",
   "execution_count": 5,
   "id": "4b0069a3-75d8-474c-8e1d-bd8acdf8ead9",
   "metadata": {},
   "outputs": [
    {
     "data": {
      "text/html": [
       "<div>\n",
       "<style scoped>\n",
       "    .dataframe tbody tr th:only-of-type {\n",
       "        vertical-align: middle;\n",
       "    }\n",
       "\n",
       "    .dataframe tbody tr th {\n",
       "        vertical-align: top;\n",
       "    }\n",
       "\n",
       "    .dataframe thead th {\n",
       "        text-align: right;\n",
       "    }\n",
       "</style>\n",
       "<table border=\"1\" class=\"dataframe\">\n",
       "  <thead>\n",
       "    <tr style=\"text-align: right;\">\n",
       "      <th></th>\n",
       "      <th>Price</th>\n",
       "      <th>Age_08_04</th>\n",
       "      <th>KM</th>\n",
       "      <th>Fuel_Type</th>\n",
       "      <th>HP</th>\n",
       "      <th>Automatic</th>\n",
       "      <th>cc</th>\n",
       "      <th>Doors</th>\n",
       "      <th>Cylinders</th>\n",
       "      <th>Gears</th>\n",
       "      <th>Weight</th>\n",
       "    </tr>\n",
       "  </thead>\n",
       "  <tbody>\n",
       "    <tr>\n",
       "      <th>0</th>\n",
       "      <td>13500</td>\n",
       "      <td>23</td>\n",
       "      <td>46986</td>\n",
       "      <td>Diesel</td>\n",
       "      <td>90</td>\n",
       "      <td>0</td>\n",
       "      <td>2000</td>\n",
       "      <td>3</td>\n",
       "      <td>4</td>\n",
       "      <td>5</td>\n",
       "      <td>1165</td>\n",
       "    </tr>\n",
       "    <tr>\n",
       "      <th>1</th>\n",
       "      <td>13750</td>\n",
       "      <td>23</td>\n",
       "      <td>72937</td>\n",
       "      <td>Diesel</td>\n",
       "      <td>90</td>\n",
       "      <td>0</td>\n",
       "      <td>2000</td>\n",
       "      <td>3</td>\n",
       "      <td>4</td>\n",
       "      <td>5</td>\n",
       "      <td>1165</td>\n",
       "    </tr>\n",
       "    <tr>\n",
       "      <th>2</th>\n",
       "      <td>13950</td>\n",
       "      <td>24</td>\n",
       "      <td>41711</td>\n",
       "      <td>Diesel</td>\n",
       "      <td>90</td>\n",
       "      <td>0</td>\n",
       "      <td>2000</td>\n",
       "      <td>3</td>\n",
       "      <td>4</td>\n",
       "      <td>5</td>\n",
       "      <td>1165</td>\n",
       "    </tr>\n",
       "    <tr>\n",
       "      <th>3</th>\n",
       "      <td>14950</td>\n",
       "      <td>26</td>\n",
       "      <td>48000</td>\n",
       "      <td>Diesel</td>\n",
       "      <td>90</td>\n",
       "      <td>0</td>\n",
       "      <td>2000</td>\n",
       "      <td>3</td>\n",
       "      <td>4</td>\n",
       "      <td>5</td>\n",
       "      <td>1165</td>\n",
       "    </tr>\n",
       "    <tr>\n",
       "      <th>4</th>\n",
       "      <td>13750</td>\n",
       "      <td>30</td>\n",
       "      <td>38500</td>\n",
       "      <td>Diesel</td>\n",
       "      <td>90</td>\n",
       "      <td>0</td>\n",
       "      <td>2000</td>\n",
       "      <td>3</td>\n",
       "      <td>4</td>\n",
       "      <td>5</td>\n",
       "      <td>1170</td>\n",
       "    </tr>\n",
       "  </tbody>\n",
       "</table>\n",
       "</div>"
      ],
      "text/plain": [
       "   Price  Age_08_04     KM Fuel_Type  HP  Automatic    cc  Doors  Cylinders  \\\n",
       "0  13500         23  46986    Diesel  90          0  2000      3          4   \n",
       "1  13750         23  72937    Diesel  90          0  2000      3          4   \n",
       "2  13950         24  41711    Diesel  90          0  2000      3          4   \n",
       "3  14950         26  48000    Diesel  90          0  2000      3          4   \n",
       "4  13750         30  38500    Diesel  90          0  2000      3          4   \n",
       "\n",
       "   Gears  Weight  \n",
       "0      5    1165  \n",
       "1      5    1165  \n",
       "2      5    1165  \n",
       "3      5    1165  \n",
       "4      5    1170  "
      ]
     },
     "execution_count": 5,
     "metadata": {},
     "output_type": "execute_result"
    }
   ],
   "source": [
    "#Displaying top 5 records\n",
    "toyota.head()"
   ]
  },
  {
   "cell_type": "code",
   "execution_count": 6,
   "id": "838685c5-e908-4bc6-b506-bcf2f70a9550",
   "metadata": {},
   "outputs": [
    {
     "data": {
      "text/html": [
       "<div>\n",
       "<style scoped>\n",
       "    .dataframe tbody tr th:only-of-type {\n",
       "        vertical-align: middle;\n",
       "    }\n",
       "\n",
       "    .dataframe tbody tr th {\n",
       "        vertical-align: top;\n",
       "    }\n",
       "\n",
       "    .dataframe thead th {\n",
       "        text-align: right;\n",
       "    }\n",
       "</style>\n",
       "<table border=\"1\" class=\"dataframe\">\n",
       "  <thead>\n",
       "    <tr style=\"text-align: right;\">\n",
       "      <th></th>\n",
       "      <th>Price</th>\n",
       "      <th>Age_08_04</th>\n",
       "      <th>KM</th>\n",
       "      <th>Fuel_Type</th>\n",
       "      <th>HP</th>\n",
       "      <th>Automatic</th>\n",
       "      <th>cc</th>\n",
       "      <th>Doors</th>\n",
       "      <th>Cylinders</th>\n",
       "      <th>Gears</th>\n",
       "      <th>Weight</th>\n",
       "    </tr>\n",
       "  </thead>\n",
       "  <tbody>\n",
       "    <tr>\n",
       "      <th>1431</th>\n",
       "      <td>7500</td>\n",
       "      <td>69</td>\n",
       "      <td>20544</td>\n",
       "      <td>Petrol</td>\n",
       "      <td>86</td>\n",
       "      <td>0</td>\n",
       "      <td>1300</td>\n",
       "      <td>3</td>\n",
       "      <td>4</td>\n",
       "      <td>5</td>\n",
       "      <td>1025</td>\n",
       "    </tr>\n",
       "    <tr>\n",
       "      <th>1432</th>\n",
       "      <td>10845</td>\n",
       "      <td>72</td>\n",
       "      <td>19000</td>\n",
       "      <td>Petrol</td>\n",
       "      <td>86</td>\n",
       "      <td>0</td>\n",
       "      <td>1300</td>\n",
       "      <td>3</td>\n",
       "      <td>4</td>\n",
       "      <td>5</td>\n",
       "      <td>1015</td>\n",
       "    </tr>\n",
       "    <tr>\n",
       "      <th>1433</th>\n",
       "      <td>8500</td>\n",
       "      <td>71</td>\n",
       "      <td>17016</td>\n",
       "      <td>Petrol</td>\n",
       "      <td>86</td>\n",
       "      <td>0</td>\n",
       "      <td>1300</td>\n",
       "      <td>3</td>\n",
       "      <td>4</td>\n",
       "      <td>5</td>\n",
       "      <td>1015</td>\n",
       "    </tr>\n",
       "    <tr>\n",
       "      <th>1434</th>\n",
       "      <td>7250</td>\n",
       "      <td>70</td>\n",
       "      <td>16916</td>\n",
       "      <td>Petrol</td>\n",
       "      <td>86</td>\n",
       "      <td>0</td>\n",
       "      <td>1300</td>\n",
       "      <td>3</td>\n",
       "      <td>4</td>\n",
       "      <td>5</td>\n",
       "      <td>1015</td>\n",
       "    </tr>\n",
       "    <tr>\n",
       "      <th>1435</th>\n",
       "      <td>6950</td>\n",
       "      <td>76</td>\n",
       "      <td>1</td>\n",
       "      <td>Petrol</td>\n",
       "      <td>110</td>\n",
       "      <td>0</td>\n",
       "      <td>1600</td>\n",
       "      <td>5</td>\n",
       "      <td>4</td>\n",
       "      <td>5</td>\n",
       "      <td>1114</td>\n",
       "    </tr>\n",
       "  </tbody>\n",
       "</table>\n",
       "</div>"
      ],
      "text/plain": [
       "      Price  Age_08_04     KM Fuel_Type   HP  Automatic    cc  Doors  \\\n",
       "1431   7500         69  20544    Petrol   86          0  1300      3   \n",
       "1432  10845         72  19000    Petrol   86          0  1300      3   \n",
       "1433   8500         71  17016    Petrol   86          0  1300      3   \n",
       "1434   7250         70  16916    Petrol   86          0  1300      3   \n",
       "1435   6950         76      1    Petrol  110          0  1600      5   \n",
       "\n",
       "      Cylinders  Gears  Weight  \n",
       "1431          4      5    1025  \n",
       "1432          4      5    1015  \n",
       "1433          4      5    1015  \n",
       "1434          4      5    1015  \n",
       "1435          4      5    1114  "
      ]
     },
     "execution_count": 6,
     "metadata": {},
     "output_type": "execute_result"
    }
   ],
   "source": [
    "#Displaying last 5 records\n",
    "toyota.tail()"
   ]
  },
  {
   "cell_type": "code",
   "execution_count": null,
   "id": "6669aa89-68df-4ec5-96f3-a2b92cf09817",
   "metadata": {},
   "outputs": [],
   "source": []
  },
  {
   "cell_type": "code",
   "execution_count": 7,
   "id": "02617ac4-719b-491e-9924-876f31bb9e1f",
   "metadata": {},
   "outputs": [
    {
     "data": {
      "text/plain": [
       "(1436, 11)"
      ]
     },
     "execution_count": 7,
     "metadata": {},
     "output_type": "execute_result"
    }
   ],
   "source": [
    "#checking shape\n",
    "toyota.shape"
   ]
  },
  {
   "cell_type": "markdown",
   "id": "3ebbc06c-b896-424a-b30a-8f1c49260def",
   "metadata": {},
   "source": [
    "- we have 1436 rows and 11 columns"
   ]
  },
  {
   "cell_type": "code",
   "execution_count": null,
   "id": "6385133b-7f3c-4b27-b383-9c0bd811f6dd",
   "metadata": {},
   "outputs": [],
   "source": []
  },
  {
   "cell_type": "markdown",
   "id": "1fb4c310-bbf7-4f2f-b31c-736c6d50a402",
   "metadata": {},
   "source": [
    "# Summary statictics"
   ]
  },
  {
   "cell_type": "code",
   "execution_count": null,
   "id": "49e963cd-85f2-4cac-9676-859a2f6acc3f",
   "metadata": {},
   "outputs": [],
   "source": []
  },
  {
   "cell_type": "code",
   "execution_count": 10,
   "id": "be7ae602-4459-45e9-a488-e4b8f97c8bb2",
   "metadata": {},
   "outputs": [
    {
     "name": "stdout",
     "output_type": "stream",
     "text": [
      "   Price  Age_08_04     KM Fuel_Type  HP  Automatic    cc  Doors  Cylinders  \\\n",
      "0  13500         23  46986    Diesel  90          0  2000      3          4   \n",
      "1  13750         23  72937    Diesel  90          0  2000      3          4   \n",
      "2  13950         24  41711    Diesel  90          0  2000      3          4   \n",
      "3  14950         26  48000    Diesel  90          0  2000      3          4   \n",
      "4  13750         30  38500    Diesel  90          0  2000      3          4   \n",
      "\n",
      "   Gears  Weight  \n",
      "0      5    1165  \n",
      "1      5    1165  \n",
      "2      5    1165  \n",
      "3      5    1165  \n",
      "4      5    1170  \n"
     ]
    }
   ],
   "source": [
    "# Display the first few rows of dataset\n",
    "print(toyota.head())"
   ]
  },
  {
   "cell_type": "code",
   "execution_count": null,
   "id": "65cf472c-4e2a-4cf8-9639-07b1e40de395",
   "metadata": {},
   "outputs": [],
   "source": []
  },
  {
   "cell_type": "code",
   "execution_count": 11,
   "id": "7a0491ee-ff2c-4157-923c-2874c4275124",
   "metadata": {},
   "outputs": [
    {
     "name": "stdout",
     "output_type": "stream",
     "text": [
      "\n",
      "Dataset Information:\n",
      "<class 'pandas.core.frame.DataFrame'>\n",
      "RangeIndex: 1436 entries, 0 to 1435\n",
      "Data columns (total 11 columns):\n",
      " #   Column     Non-Null Count  Dtype \n",
      "---  ------     --------------  ----- \n",
      " 0   Price      1436 non-null   int64 \n",
      " 1   Age_08_04  1436 non-null   int64 \n",
      " 2   KM         1436 non-null   int64 \n",
      " 3   Fuel_Type  1436 non-null   object\n",
      " 4   HP         1436 non-null   int64 \n",
      " 5   Automatic  1436 non-null   int64 \n",
      " 6   cc         1436 non-null   int64 \n",
      " 7   Doors      1436 non-null   int64 \n",
      " 8   Cylinders  1436 non-null   int64 \n",
      " 9   Gears      1436 non-null   int64 \n",
      " 10  Weight     1436 non-null   int64 \n",
      "dtypes: int64(10), object(1)\n",
      "memory usage: 123.5+ KB\n",
      "None\n"
     ]
    }
   ],
   "source": [
    "# Getting the basic information about dataset\n",
    "print(\"\\nDataset Information:\")\n",
    "print(toyota.info())"
   ]
  },
  {
   "cell_type": "code",
   "execution_count": null,
   "id": "2c4379d4-45c1-425d-b5d9-b03e4944e139",
   "metadata": {},
   "outputs": [],
   "source": []
  },
  {
   "cell_type": "code",
   "execution_count": 12,
   "id": "df7117fb-959e-4112-a06e-f6d74627202f",
   "metadata": {},
   "outputs": [
    {
     "name": "stdout",
     "output_type": "stream",
     "text": [
      "\n",
      "Statistical Summary:\n",
      "              Price    Age_08_04             KM           HP    Automatic  \\\n",
      "count   1436.000000  1436.000000    1436.000000  1436.000000  1436.000000   \n",
      "mean   10730.824513    55.947075   68533.259749   101.502089     0.055710   \n",
      "std     3626.964585    18.599988   37506.448872    14.981080     0.229441   \n",
      "min     4350.000000     1.000000       1.000000    69.000000     0.000000   \n",
      "25%     8450.000000    44.000000   43000.000000    90.000000     0.000000   \n",
      "50%     9900.000000    61.000000   63389.500000   110.000000     0.000000   \n",
      "75%    11950.000000    70.000000   87020.750000   110.000000     0.000000   \n",
      "max    32500.000000    80.000000  243000.000000   192.000000     1.000000   \n",
      "\n",
      "                cc        Doors  Cylinders        Gears      Weight  \n",
      "count   1436.00000  1436.000000     1436.0  1436.000000  1436.00000  \n",
      "mean    1576.85585     4.033426        4.0     5.026462  1072.45961  \n",
      "std      424.38677     0.952677        0.0     0.188510    52.64112  \n",
      "min     1300.00000     2.000000        4.0     3.000000  1000.00000  \n",
      "25%     1400.00000     3.000000        4.0     5.000000  1040.00000  \n",
      "50%     1600.00000     4.000000        4.0     5.000000  1070.00000  \n",
      "75%     1600.00000     5.000000        4.0     5.000000  1085.00000  \n",
      "max    16000.00000     5.000000        4.0     6.000000  1615.00000  \n"
     ]
    }
   ],
   "source": [
    "#Describe the dataset for basic statistical details\n",
    "print(\"\\nStatistical Summary:\")\n",
    "print(toyota.describe())"
   ]
  },
  {
   "cell_type": "code",
   "execution_count": null,
   "id": "be9cbe37-92c0-4ff5-9baf-9bdd77c0a43b",
   "metadata": {},
   "outputs": [],
   "source": []
  },
  {
   "cell_type": "code",
   "execution_count": null,
   "id": "9760a50d-0623-4547-8d84-1f1b10ffc0e8",
   "metadata": {},
   "outputs": [],
   "source": []
  },
  {
   "cell_type": "markdown",
   "id": "c9080d9b-1c72-4df9-bd07-6cf22d76e85d",
   "metadata": {},
   "source": [
    "# Missing Value Analysis :\n",
    "- Visualizing missing values with a heatmap or bar plot"
   ]
  },
  {
   "cell_type": "code",
   "execution_count": null,
   "id": "d6a5ea6e-0c8a-4789-9a0a-9a14ccf474c0",
   "metadata": {},
   "outputs": [],
   "source": []
  },
  {
   "cell_type": "code",
   "execution_count": null,
   "id": "8717805f-b85d-41a0-8aa6-f3efcec2645e",
   "metadata": {},
   "outputs": [],
   "source": []
  },
  {
   "cell_type": "code",
   "execution_count": 14,
   "id": "14901904-25cf-4802-b8a4-657ddf70921b",
   "metadata": {},
   "outputs": [
    {
     "name": "stdout",
     "output_type": "stream",
     "text": [
      "\n",
      "Missing Values:\n",
      "Price        0\n",
      "Age_08_04    0\n",
      "KM           0\n",
      "Fuel_Type    0\n",
      "HP           0\n",
      "Automatic    0\n",
      "cc           0\n",
      "Doors        0\n",
      "Cylinders    0\n",
      "Gears        0\n",
      "Weight       0\n",
      "dtype: int64\n"
     ]
    }
   ],
   "source": [
    "# Check for missing values\n",
    "print(\"\\nMissing Values:\")\n",
    "print(toyota.isnull().sum())"
   ]
  },
  {
   "cell_type": "code",
   "execution_count": null,
   "id": "78e1cdd6-9639-4d4a-9b8d-301b4c32093a",
   "metadata": {},
   "outputs": [],
   "source": []
  },
  {
   "cell_type": "code",
   "execution_count": 15,
   "id": "c188459c-3271-4f96-b331-5cbf383f2df3",
   "metadata": {},
   "outputs": [
    {
     "data": {
      "image/png": "[encoded data removed]",
      "text/plain": [
       "<Figure size 1000x600 with 2 Axes>"
      ]
     },
     "metadata": {},
     "output_type": "display_data"
    }
   ],
   "source": [
    "# Visualizing missing values \n",
    "import pandas as pd\n",
    "import matplotlib.pyplot as plt\n",
    "import seaborn as sns\n",
    "\n",
    "plt.figure(figsize=(10,6))\n",
    "sns.heatmap(toyota.isnull(), cbar=True, cmap='viridis')\n",
    "plt.title('Missing Values Heatmap')\n",
    "plt.show()"
   ]
  },
  {
   "cell_type": "code",
   "execution_count": null,
   "id": "d60b745a-7901-4f23-848d-481a0e28b8a1",
   "metadata": {},
   "outputs": [],
   "source": []
  },
  {
   "cell_type": "code",
   "execution_count": 16,
   "id": "6114cd50-113c-4da1-ab46-c1a4243bc49b",
   "metadata": {},
   "outputs": [],
   "source": [
    "# Here we can clearly see as shown in the heatmap that there are no nulls"
   ]
  },
  {
   "cell_type": "code",
   "execution_count": null,
   "id": "4e56465a-9069-4887-b1b5-e1cb6adf8472",
   "metadata": {},
   "outputs": [],
   "source": []
  },
  {
   "cell_type": "code",
   "execution_count": null,
   "id": "7fa964cc-e7f1-4221-83b6-0456249ef088",
   "metadata": {},
   "outputs": [],
   "source": []
  },
  {
   "cell_type": "markdown",
   "id": "c446836a-7f1e-4dc3-a120-4ee6284091dc",
   "metadata": {},
   "source": [
    "# Correlation Analysis :\n",
    "- Using a heatmap to visualize correlations between numerical variables"
   ]
  },
  {
   "cell_type": "code",
   "execution_count": 29,
   "id": "7130350b-3c25-4196-87eb-bba02cb3c49a",
   "metadata": {},
   "outputs": [],
   "source": [
    "correlation_matrix = toyota.corr()"
   ]
  },
  {
   "cell_type": "code",
   "execution_count": 31,
   "id": "1d7c03d6-8799-4737-8fcc-8bfcf23201f7",
   "metadata": {},
   "outputs": [
    {
     "data": {
      "image/png": "[encoded data removed]",
      "text/plain": [
       "<Figure size 1300x1200 with 2 Axes>"
      ]
     },
     "metadata": {},
     "output_type": "display_data"
    }
   ],
   "source": [
    "# Visualize the correlation matrix\n",
    "plt.figure(figsize=(13,12))\n",
    "sns.heatmap(correlation_matrix, annot=True, cmap='coolwarm', linewidth= 1)\n",
    "plt.title('Correlation Matrix Heatmap')\n",
    "plt.show()"
   ]
  },
  {
   "cell_type": "markdown",
   "id": "5c0ac7a9-3ed1-4dda-bd6d-81e6ee3979eb",
   "metadata": {},
   "source": [
    "- we have objects in our data thats why we are getting an error\n",
    "- so we will covert object into int using  LabelEncoder"
   ]
  },
  {
   "cell_type": "code",
   "execution_count": null,
   "id": "dd0ce757-934e-49ca-87ef-7c346eaaee43",
   "metadata": {},
   "outputs": [],
   "source": []
  },
  {
   "cell_type": "code",
   "execution_count": 21,
   "id": "0a8615f5-8b7a-47d1-aab7-00482a124638",
   "metadata": {},
   "outputs": [],
   "source": [
    "from sklearn.preprocessing import LabelEncoder\n",
    "le = LabelEncoder()"
   ]
  },
  {
   "cell_type": "code",
   "execution_count": 23,
   "id": "000570a8-625e-413d-8aab-9e5b4531f9db",
   "metadata": {},
   "outputs": [],
   "source": [
    "toyota[toyota.select_dtypes(include = 'object').columns] = toyota[toyota.select_dtypes(include = 'object').columns] .apply(le.fit_transform)"
   ]
  },
  {
   "cell_type": "code",
   "execution_count": 25,
   "id": "4d1afaa6-93a2-4c66-a9c0-b06304b88d73",
   "metadata": {},
   "outputs": [
    {
     "data": {
      "text/plain": [
       "Index([], dtype='object')"
      ]
     },
     "execution_count": 25,
     "metadata": {},
     "output_type": "execute_result"
    }
   ],
   "source": [
    "toyota.select_dtypes(include = 'object').columns"
   ]
  },
  {
   "cell_type": "code",
   "execution_count": 27,
   "id": "5f2880ca-06e3-4ae0-9129-92d62ce6c91b",
   "metadata": {},
   "outputs": [
    {
     "data": {
      "text/html": [
       "<div>\n",
       "<style scoped>\n",
       "    .dataframe tbody tr th:only-of-type {\n",
       "        vertical-align: middle;\n",
       "    }\n",
       "\n",
       "    .dataframe tbody tr th {\n",
       "        vertical-align: top;\n",
       "    }\n",
       "\n",
       "    .dataframe thead th {\n",
       "        text-align: right;\n",
       "    }\n",
       "</style>\n",
       "<table border=\"1\" class=\"dataframe\">\n",
       "  <thead>\n",
       "    <tr style=\"text-align: right;\">\n",
       "      <th></th>\n",
       "      <th>Price</th>\n",
       "      <th>Age_08_04</th>\n",
       "      <th>KM</th>\n",
       "      <th>Fuel_Type</th>\n",
       "      <th>HP</th>\n",
       "      <th>Automatic</th>\n",
       "      <th>cc</th>\n",
       "      <th>Doors</th>\n",
       "      <th>Cylinders</th>\n",
       "      <th>Gears</th>\n",
       "      <th>Weight</th>\n",
       "    </tr>\n",
       "  </thead>\n",
       "  <tbody>\n",
       "    <tr>\n",
       "      <th>0</th>\n",
       "      <td>13500</td>\n",
       "      <td>23</td>\n",
       "      <td>46986</td>\n",
       "      <td>1</td>\n",
       "      <td>90</td>\n",
       "      <td>0</td>\n",
       "      <td>2000</td>\n",
       "      <td>3</td>\n",
       "      <td>4</td>\n",
       "      <td>5</td>\n",
       "      <td>1165</td>\n",
       "    </tr>\n",
       "    <tr>\n",
       "      <th>1</th>\n",
       "      <td>13750</td>\n",
       "      <td>23</td>\n",
       "      <td>72937</td>\n",
       "      <td>1</td>\n",
       "      <td>90</td>\n",
       "      <td>0</td>\n",
       "      <td>2000</td>\n",
       "      <td>3</td>\n",
       "      <td>4</td>\n",
       "      <td>5</td>\n",
       "      <td>1165</td>\n",
       "    </tr>\n",
       "    <tr>\n",
       "      <th>2</th>\n",
       "      <td>13950</td>\n",
       "      <td>24</td>\n",
       "      <td>41711</td>\n",
       "      <td>1</td>\n",
       "      <td>90</td>\n",
       "      <td>0</td>\n",
       "      <td>2000</td>\n",
       "      <td>3</td>\n",
       "      <td>4</td>\n",
       "      <td>5</td>\n",
       "      <td>1165</td>\n",
       "    </tr>\n",
       "    <tr>\n",
       "      <th>3</th>\n",
       "      <td>14950</td>\n",
       "      <td>26</td>\n",
       "      <td>48000</td>\n",
       "      <td>1</td>\n",
       "      <td>90</td>\n",
       "      <td>0</td>\n",
       "      <td>2000</td>\n",
       "      <td>3</td>\n",
       "      <td>4</td>\n",
       "      <td>5</td>\n",
       "      <td>1165</td>\n",
       "    </tr>\n",
       "    <tr>\n",
       "      <th>4</th>\n",
       "      <td>13750</td>\n",
       "      <td>30</td>\n",
       "      <td>38500</td>\n",
       "      <td>1</td>\n",
       "      <td>90</td>\n",
       "      <td>0</td>\n",
       "      <td>2000</td>\n",
       "      <td>3</td>\n",
       "      <td>4</td>\n",
       "      <td>5</td>\n",
       "      <td>1170</td>\n",
       "    </tr>\n",
       "    <tr>\n",
       "      <th>...</th>\n",
       "      <td>...</td>\n",
       "      <td>...</td>\n",
       "      <td>...</td>\n",
       "      <td>...</td>\n",
       "      <td>...</td>\n",
       "      <td>...</td>\n",
       "      <td>...</td>\n",
       "      <td>...</td>\n",
       "      <td>...</td>\n",
       "      <td>...</td>\n",
       "      <td>...</td>\n",
       "    </tr>\n",
       "    <tr>\n",
       "      <th>1431</th>\n",
       "      <td>7500</td>\n",
       "      <td>69</td>\n",
       "      <td>20544</td>\n",
       "      <td>2</td>\n",
       "      <td>86</td>\n",
       "      <td>0</td>\n",
       "      <td>1300</td>\n",
       "      <td>3</td>\n",
       "      <td>4</td>\n",
       "      <td>5</td>\n",
       "      <td>1025</td>\n",
       "    </tr>\n",
       "    <tr>\n",
       "      <th>1432</th>\n",
       "      <td>10845</td>\n",
       "      <td>72</td>\n",
       "      <td>19000</td>\n",
       "      <td>2</td>\n",
       "      <td>86</td>\n",
       "      <td>0</td>\n",
       "      <td>1300</td>\n",
       "      <td>3</td>\n",
       "      <td>4</td>\n",
       "      <td>5</td>\n",
       "      <td>1015</td>\n",
       "    </tr>\n",
       "    <tr>\n",
       "      <th>1433</th>\n",
       "      <td>8500</td>\n",
       "      <td>71</td>\n",
       "      <td>17016</td>\n",
       "      <td>2</td>\n",
       "      <td>86</td>\n",
       "      <td>0</td>\n",
       "      <td>1300</td>\n",
       "      <td>3</td>\n",
       "      <td>4</td>\n",
       "      <td>5</td>\n",
       "      <td>1015</td>\n",
       "    </tr>\n",
       "    <tr>\n",
       "      <th>1434</th>\n",
       "      <td>7250</td>\n",
       "      <td>70</td>\n",
       "      <td>16916</td>\n",
       "      <td>2</td>\n",
       "      <td>86</td>\n",
       "      <td>0</td>\n",
       "      <td>1300</td>\n",
       "      <td>3</td>\n",
       "      <td>4</td>\n",
       "      <td>5</td>\n",
       "      <td>1015</td>\n",
       "    </tr>\n",
       "    <tr>\n",
       "      <th>1435</th>\n",
       "      <td>6950</td>\n",
       "      <td>76</td>\n",
       "      <td>1</td>\n",
       "      <td>2</td>\n",
       "      <td>110</td>\n",
       "      <td>0</td>\n",
       "      <td>1600</td>\n",
       "      <td>5</td>\n",
       "      <td>4</td>\n",
       "      <td>5</td>\n",
       "      <td>1114</td>\n",
       "    </tr>\n",
       "  </tbody>\n",
       "</table>\n",
       "<p>1436 rows × 11 columns</p>\n",
       "</div>"
      ],
      "text/plain": [
       "      Price  Age_08_04     KM  Fuel_Type   HP  Automatic    cc  Doors  \\\n",
       "0     13500         23  46986          1   90          0  2000      3   \n",
       "1     13750         23  72937          1   90          0  2000      3   \n",
       "2     13950         24  41711          1   90          0  2000      3   \n",
       "3     14950         26  48000          1   90          0  2000      3   \n",
       "4     13750         30  38500          1   90          0  2000      3   \n",
       "...     ...        ...    ...        ...  ...        ...   ...    ...   \n",
       "1431   7500         69  20544          2   86          0  1300      3   \n",
       "1432  10845         72  19000          2   86          0  1300      3   \n",
       "1433   8500         71  17016          2   86          0  1300      3   \n",
       "1434   7250         70  16916          2   86          0  1300      3   \n",
       "1435   6950         76      1          2  110          0  1600      5   \n",
       "\n",
       "      Cylinders  Gears  Weight  \n",
       "0             4      5    1165  \n",
       "1             4      5    1165  \n",
       "2             4      5    1165  \n",
       "3             4      5    1165  \n",
       "4             4      5    1170  \n",
       "...         ...    ...     ...  \n",
       "1431          4      5    1025  \n",
       "1432          4      5    1015  \n",
       "1433          4      5    1015  \n",
       "1434          4      5    1015  \n",
       "1435          4      5    1114  \n",
       "\n",
       "[1436 rows x 11 columns]"
      ]
     },
     "execution_count": 27,
     "metadata": {},
     "output_type": "execute_result"
    }
   ],
   "source": [
    "toyota"
   ]
  },
  {
   "cell_type": "code",
   "execution_count": null,
   "id": "d2124efb-1952-4c71-a5cc-5db1f742ed32",
   "metadata": {},
   "outputs": [],
   "source": []
  },
  {
   "cell_type": "markdown",
   "id": "c0970cc9-4e99-4dd6-a1f5-925efe39079f",
   "metadata": {},
   "source": [
    "# Distribution Analysis:\n",
    "- Plot histograms and boxplots to understand the distribution of numerical variables"
   ]
  },
  {
   "cell_type": "code",
   "execution_count": 35,
   "id": "3b95c605-7254-4a0b-92bd-b30e56276578",
   "metadata": {
    "scrolled": true
   },
   "outputs": [
    {
     "data": {
      "image/png": "[encoded data removed]",
      "text/plain": [
       "<Figure size 1500x1200 with 30 Axes>"
      ]
     },
     "metadata": {},
     "output_type": "display_data"
    }
   ],
   "source": [
    "# Plot histograms for numerical columns\n",
    "numerical_columns = toyota.select_dtypes(include=['int64']).columns\n",
    "toyota[numerical_columns].hist(bins=15, figsize=(15, 12),layout=(6, 5))\n",
    "plt.tight_layout()\n",
    "plt.show()"
   ]
  },
  {
   "cell_type": "code",
   "execution_count": null,
   "id": "e96c8da2-15d1-4bca-ace1-5cf96168c88d",
   "metadata": {},
   "outputs": [],
   "source": []
  },
  {
   "cell_type": "code",
   "execution_count": null,
   "id": "7c8d9eff-8ce5-40c0-93fc-2a8e44e92ae9",
   "metadata": {},
   "outputs": [],
   "source": []
  },
  {
   "cell_type": "markdown",
   "id": "fec66b08-50ea-4428-abbd-2bf856e0ed58",
   "metadata": {},
   "source": [
    "# Task 2"
   ]
  },
  {
   "cell_type": "markdown",
   "id": "1cb3a5dd-fe48-490c-a47c-c1bd81924c27",
   "metadata": {},
   "source": [
    "# Train & Testing"
   ]
  },
  {
   "cell_type": "code",
   "execution_count": 39,
   "id": "d98847ba-efb3-4bfc-b333-7f9119d18b90",
   "metadata": {},
   "outputs": [],
   "source": [
    "from sklearn.model_selection import train_test_split"
   ]
  },
  {
   "cell_type": "code",
   "execution_count": 41,
   "id": "d3dcfb6a-a295-4ec1-bd0d-1d2033c726c9",
   "metadata": {},
   "outputs": [
    {
     "data": {
      "text/plain": [
       "Index(['Price', 'Age_08_04', 'KM', 'Fuel_Type', 'HP', 'Automatic', 'cc',\n",
       "       'Doors', 'Cylinders', 'Gears', 'Weight'],\n",
       "      dtype='object')"
      ]
     },
     "execution_count": 41,
     "metadata": {},
     "output_type": "execute_result"
    }
   ],
   "source": [
    "#finding target var column index\n",
    "toyota.columns"
   ]
  },
  {
   "cell_type": "code",
   "execution_count": 43,
   "id": "d47046a5-d5bf-4229-8bdd-069d4af042fe",
   "metadata": {},
   "outputs": [],
   "source": [
    "#Here our target variable is at first position"
   ]
  },
  {
   "cell_type": "code",
   "execution_count": 45,
   "id": "dcbc46fd-7924-4431-8629-ea93d74034e1",
   "metadata": {},
   "outputs": [],
   "source": [
    "train, test = train_test_split(toyota,test_size=.2)\n",
    "\n",
    "train_x = train.iloc[:, 1::]\n",
    "train_y = train.iloc[:, 0]\n",
    "\n",
    "test_x = test.iloc[:, 1::]\n",
    "test_y = test.iloc[:, 0]"
   ]
  },
  {
   "cell_type": "code",
   "execution_count": null,
   "id": "b70834c6-59d2-4196-b997-72c0253263b7",
   "metadata": {},
   "outputs": [],
   "source": []
  },
  {
   "cell_type": "code",
   "execution_count": null,
   "id": "d06abd84-b54d-4e18-9d56-9c188204b816",
   "metadata": {},
   "outputs": [],
   "source": []
  },
  {
   "cell_type": "markdown",
   "id": "8d401154-12d3-4965-91d0-bfc6ae5872d3",
   "metadata": {},
   "source": [
    "# Task 3"
   ]
  },
  {
   "cell_type": "code",
   "execution_count": null,
   "id": "9b44e5f2-bbe8-4539-97d0-5d197437e428",
   "metadata": {},
   "outputs": [],
   "source": []
  },
  {
   "cell_type": "code",
   "execution_count": 116,
   "id": "710a8329-33e5-4141-9551-63698c500d72",
   "metadata": {},
   "outputs": [],
   "source": [
    "import pandas as pd\n",
    "from sklearn.model_selection import train_test_split\n",
    "from sklearn.linear_model import LinearRegression\n",
    "from sklearn.metrics import mean_squared_error, r2_score\n",
    "from sklearn.preprocessing import PolynomialFeatures"
   ]
  },
  {
   "cell_type": "code",
   "execution_count": 118,
   "id": "ff001cb2-1db6-42d4-94e2-e66d101f5777",
   "metadata": {},
   "outputs": [
    {
     "data": {
      "text/html": [
       "<div>\n",
       "<style scoped>\n",
       "    .dataframe tbody tr th:only-of-type {\n",
       "        vertical-align: middle;\n",
       "    }\n",
       "\n",
       "    .dataframe tbody tr th {\n",
       "        vertical-align: top;\n",
       "    }\n",
       "\n",
       "    .dataframe thead th {\n",
       "        text-align: right;\n",
       "    }\n",
       "</style>\n",
       "<table border=\"1\" class=\"dataframe\">\n",
       "  <thead>\n",
       "    <tr style=\"text-align: right;\">\n",
       "      <th></th>\n",
       "      <th>Price</th>\n",
       "      <th>Age_08_04</th>\n",
       "      <th>KM</th>\n",
       "      <th>Fuel_Type</th>\n",
       "      <th>HP</th>\n",
       "      <th>Automatic</th>\n",
       "      <th>cc</th>\n",
       "      <th>Doors</th>\n",
       "      <th>Cylinders</th>\n",
       "      <th>Gears</th>\n",
       "      <th>Weight</th>\n",
       "    </tr>\n",
       "  </thead>\n",
       "  <tbody>\n",
       "    <tr>\n",
       "      <th>0</th>\n",
       "      <td>13500</td>\n",
       "      <td>23</td>\n",
       "      <td>46986</td>\n",
       "      <td>Diesel</td>\n",
       "      <td>90</td>\n",
       "      <td>0</td>\n",
       "      <td>2000</td>\n",
       "      <td>3</td>\n",
       "      <td>4</td>\n",
       "      <td>5</td>\n",
       "      <td>1165</td>\n",
       "    </tr>\n",
       "    <tr>\n",
       "      <th>1</th>\n",
       "      <td>13750</td>\n",
       "      <td>23</td>\n",
       "      <td>72937</td>\n",
       "      <td>Diesel</td>\n",
       "      <td>90</td>\n",
       "      <td>0</td>\n",
       "      <td>2000</td>\n",
       "      <td>3</td>\n",
       "      <td>4</td>\n",
       "      <td>5</td>\n",
       "      <td>1165</td>\n",
       "    </tr>\n",
       "    <tr>\n",
       "      <th>2</th>\n",
       "      <td>13950</td>\n",
       "      <td>24</td>\n",
       "      <td>41711</td>\n",
       "      <td>Diesel</td>\n",
       "      <td>90</td>\n",
       "      <td>0</td>\n",
       "      <td>2000</td>\n",
       "      <td>3</td>\n",
       "      <td>4</td>\n",
       "      <td>5</td>\n",
       "      <td>1165</td>\n",
       "    </tr>\n",
       "    <tr>\n",
       "      <th>3</th>\n",
       "      <td>14950</td>\n",
       "      <td>26</td>\n",
       "      <td>48000</td>\n",
       "      <td>Diesel</td>\n",
       "      <td>90</td>\n",
       "      <td>0</td>\n",
       "      <td>2000</td>\n",
       "      <td>3</td>\n",
       "      <td>4</td>\n",
       "      <td>5</td>\n",
       "      <td>1165</td>\n",
       "    </tr>\n",
       "    <tr>\n",
       "      <th>4</th>\n",
       "      <td>13750</td>\n",
       "      <td>30</td>\n",
       "      <td>38500</td>\n",
       "      <td>Diesel</td>\n",
       "      <td>90</td>\n",
       "      <td>0</td>\n",
       "      <td>2000</td>\n",
       "      <td>3</td>\n",
       "      <td>4</td>\n",
       "      <td>5</td>\n",
       "      <td>1170</td>\n",
       "    </tr>\n",
       "    <tr>\n",
       "      <th>...</th>\n",
       "      <td>...</td>\n",
       "      <td>...</td>\n",
       "      <td>...</td>\n",
       "      <td>...</td>\n",
       "      <td>...</td>\n",
       "      <td>...</td>\n",
       "      <td>...</td>\n",
       "      <td>...</td>\n",
       "      <td>...</td>\n",
       "      <td>...</td>\n",
       "      <td>...</td>\n",
       "    </tr>\n",
       "    <tr>\n",
       "      <th>1431</th>\n",
       "      <td>7500</td>\n",
       "      <td>69</td>\n",
       "      <td>20544</td>\n",
       "      <td>Petrol</td>\n",
       "      <td>86</td>\n",
       "      <td>0</td>\n",
       "      <td>1300</td>\n",
       "      <td>3</td>\n",
       "      <td>4</td>\n",
       "      <td>5</td>\n",
       "      <td>1025</td>\n",
       "    </tr>\n",
       "    <tr>\n",
       "      <th>1432</th>\n",
       "      <td>10845</td>\n",
       "      <td>72</td>\n",
       "      <td>19000</td>\n",
       "      <td>Petrol</td>\n",
       "      <td>86</td>\n",
       "      <td>0</td>\n",
       "      <td>1300</td>\n",
       "      <td>3</td>\n",
       "      <td>4</td>\n",
       "      <td>5</td>\n",
       "      <td>1015</td>\n",
       "    </tr>\n",
       "    <tr>\n",
       "      <th>1433</th>\n",
       "      <td>8500</td>\n",
       "      <td>71</td>\n",
       "      <td>17016</td>\n",
       "      <td>Petrol</td>\n",
       "      <td>86</td>\n",
       "      <td>0</td>\n",
       "      <td>1300</td>\n",
       "      <td>3</td>\n",
       "      <td>4</td>\n",
       "      <td>5</td>\n",
       "      <td>1015</td>\n",
       "    </tr>\n",
       "    <tr>\n",
       "      <th>1434</th>\n",
       "      <td>7250</td>\n",
       "      <td>70</td>\n",
       "      <td>16916</td>\n",
       "      <td>Petrol</td>\n",
       "      <td>86</td>\n",
       "      <td>0</td>\n",
       "      <td>1300</td>\n",
       "      <td>3</td>\n",
       "      <td>4</td>\n",
       "      <td>5</td>\n",
       "      <td>1015</td>\n",
       "    </tr>\n",
       "    <tr>\n",
       "      <th>1435</th>\n",
       "      <td>6950</td>\n",
       "      <td>76</td>\n",
       "      <td>1</td>\n",
       "      <td>Petrol</td>\n",
       "      <td>110</td>\n",
       "      <td>0</td>\n",
       "      <td>1600</td>\n",
       "      <td>5</td>\n",
       "      <td>4</td>\n",
       "      <td>5</td>\n",
       "      <td>1114</td>\n",
       "    </tr>\n",
       "  </tbody>\n",
       "</table>\n",
       "<p>1436 rows × 11 columns</p>\n",
       "</div>"
      ],
      "text/plain": [
       "      Price  Age_08_04     KM Fuel_Type   HP  Automatic    cc  Doors  \\\n",
       "0     13500         23  46986    Diesel   90          0  2000      3   \n",
       "1     13750         23  72937    Diesel   90          0  2000      3   \n",
       "2     13950         24  41711    Diesel   90          0  2000      3   \n",
       "3     14950         26  48000    Diesel   90          0  2000      3   \n",
       "4     13750         30  38500    Diesel   90          0  2000      3   \n",
       "...     ...        ...    ...       ...  ...        ...   ...    ...   \n",
       "1431   7500         69  20544    Petrol   86          0  1300      3   \n",
       "1432  10845         72  19000    Petrol   86          0  1300      3   \n",
       "1433   8500         71  17016    Petrol   86          0  1300      3   \n",
       "1434   7250         70  16916    Petrol   86          0  1300      3   \n",
       "1435   6950         76      1    Petrol  110          0  1600      5   \n",
       "\n",
       "      Cylinders  Gears  Weight  \n",
       "0             4      5    1165  \n",
       "1             4      5    1165  \n",
       "2             4      5    1165  \n",
       "3             4      5    1165  \n",
       "4             4      5    1170  \n",
       "...         ...    ...     ...  \n",
       "1431          4      5    1025  \n",
       "1432          4      5    1015  \n",
       "1433          4      5    1015  \n",
       "1434          4      5    1015  \n",
       "1435          4      5    1114  \n",
       "\n",
       "[1436 rows x 11 columns]"
      ]
     },
     "execution_count": 118,
     "metadata": {},
     "output_type": "execute_result"
    }
   ],
   "source": [
    "# Load the dataset\n",
    "data = pd.read_csv(r'file:///C:\\Users\\dell\\AppData\\Local\\Temp\\80d1bcc2-a488-4cab-84ff-fdac64209866_MLR.zip.866\\MLR\\ToyotaCorolla%20-%20MLR.csv')\n",
    "data"
   ]
  },
  {
   "cell_type": "code",
   "execution_count": 120,
   "id": "bdab9f98-e3f0-4cf9-a625-1ff2b8330262",
   "metadata": {},
   "outputs": [],
   "source": [
    "from sklearn.preprocessing import LabelEncoder\n",
    "le = LabelEncoder()"
   ]
  },
  {
   "cell_type": "code",
   "execution_count": 122,
   "id": "a322e049-741c-4879-97b9-a0f6364eb316",
   "metadata": {},
   "outputs": [],
   "source": [
    "data[data.select_dtypes(include = 'object').columns] = data[data.select_dtypes(include = 'object').columns] .apply(le.fit_transform)"
   ]
  },
  {
   "cell_type": "code",
   "execution_count": 124,
   "id": "8f82ac1f-6650-496e-be63-5c3dfaeed2c3",
   "metadata": {},
   "outputs": [],
   "source": [
    "# Define the feature columns and the target variable\n",
    "features = data.drop(columns=['Price'])  # replace 'target_column' with your actual target column name\n",
    "target = data['Price']  # replace 'target_column' with your actual target column name"
   ]
  },
  {
   "cell_type": "code",
   "execution_count": 126,
   "id": "3eb35b69-a18a-43db-89bb-85d9ddf19da2",
   "metadata": {},
   "outputs": [],
   "source": [
    "# Split the dataset into training and testing sets (80% training, 20% testing)\n",
    "X_train, X_test, y_train, y_test = train_test_split(features, target, test_size=0.2, random_state=42)"
   ]
  },
  {
   "cell_type": "code",
   "execution_count": 128,
   "id": "b3d1a2b8-daa4-4017-a9f9-5113ef898998",
   "metadata": {},
   "outputs": [],
   "source": [
    "# Initialize lists to store models and results\n",
    "models = []\n",
    "results = []"
   ]
  },
  {
   "cell_type": "code",
   "execution_count": 130,
   "id": "5e27025d-0743-4d84-834a-3fb7d5c97c70",
   "metadata": {},
   "outputs": [],
   "source": [
    "# Model 1: Basic Linear Regression with all features\n",
    "model_1 = LinearRegression()\n",
    "model_1.fit(X_train, y_train)\n",
    "y_pred_1 = model_1.predict(X_test)\n",
    "models.append(model_1)\n",
    "results.append({\n",
    "    'model': 'Model 1',\n",
    "    'coefficients': model_1.coef_,\n",
    "    'intercept': model_1.intercept_,\n",
    "    'MSE': mean_squared_error(y_test, y_pred_1),\n",
    "    'R^2': r2_score(y_test, y_pred_1)\n",
    "})"
   ]
  },
  {
   "cell_type": "code",
   "execution_count": 132,
   "id": "f80eae67-b531-4019-b09f-096bf97c4ce1",
   "metadata": {},
   "outputs": [
    {
     "name": "stdout",
     "output_type": "stream",
     "text": [
      "Selected features: Index(['Age_08_04', 'Fuel_Type', 'HP', 'Automatic', 'Doors', 'Gears',\n",
      "       'Weight'],\n",
      "      dtype='object')\n"
     ]
    }
   ],
   "source": [
    "# Model 2: Linear Regression with a subset of features\n",
    "#For this we will find top features using Recursive Feature Elimination (RFE) Feature Selection tech\n",
    "from sklearn.feature_selection import RFE\n",
    "\n",
    "# Initialize the linear regression model\n",
    "model = LinearRegression()\n",
    "\n",
    "# Initialize the RFE model and select top n features (e.g., top 7 features)\n",
    "selector = RFE(model, n_features_to_select=7, step=1)\n",
    "selector = selector.fit(X_train, y_train)\n",
    "\n",
    "# Get the selected features\n",
    "selected_features = X_train.columns[selector.support_]\n",
    "\n",
    "print(f\"Selected features: {selected_features}\")"
   ]
  },
  {
   "cell_type": "code",
   "execution_count": 134,
   "id": "0d0b6fe3-e9d1-4dad-97f0-160cf57aa384",
   "metadata": {},
   "outputs": [],
   "source": [
    "selected_features = ['Age_08_04', 'Fuel_Type', 'HP', 'Automatic', 'Doors', 'Gears','Weight']  # specify relevant features\n",
    "X_train_subset = X_train[selected_features]\n",
    "X_test_subset = X_test[selected_features]\n",
    "\n",
    "model_2 = LinearRegression()\n",
    "model_2.fit(X_train_subset, y_train)\n",
    "y_pred_2 = model_2.predict(X_test_subset)\n",
    "models.append(model_2)\n",
    "results.append({\n",
    "    'model': 'Model 2',\n",
    "    'coefficients': model_2.coef_,\n",
    "    'intercept': model_2.intercept_,\n",
    "    'MSE': mean_squared_error(y_test, y_pred_2),\n",
    "    'R^2': r2_score(y_test, y_pred_2)\n",
    "})"
   ]
  },
  {
   "cell_type": "code",
   "execution_count": 136,
   "id": "bef1a25d-d4df-4568-b5aa-e4b34b0ba628",
   "metadata": {},
   "outputs": [],
   "source": [
    "# Model 3: Linear Regression with polynomial features\n",
    "poly = PolynomialFeatures(degree=2)\n",
    "X_train_poly = poly.fit_transform(X_train)\n",
    "X_test_poly = poly.transform(X_test)\n",
    "\n",
    "model_3 = LinearRegression()\n",
    "model_3.fit(X_train_poly, y_train)\n",
    "y_pred_3 = model_3.predict(X_test_poly)\n",
    "models.append(model_3)\n",
    "results.append({\n",
    "    'model': 'Model 3',\n",
    "    'coefficients': model_3.coef_,\n",
    "    'intercept': model_3.intercept_,\n",
    "    'MSE': mean_squared_error(y_test, y_pred_3),\n",
    "    'R^2': r2_score(y_test, y_pred_3)\n",
    "})"
   ]
  },
  {
   "cell_type": "code",
   "execution_count": null,
   "id": "02f1c766-1d41-4390-b8a9-d7b8606ef2c2",
   "metadata": {},
   "outputs": [],
   "source": []
  },
  {
   "cell_type": "markdown",
   "id": "15c11fe4-8ace-450e-a29e-393c0d77c63c",
   "metadata": {},
   "source": [
    "# Task 4"
   ]
  },
  {
   "cell_type": "markdown",
   "id": "763f58a1-0899-449b-ad6f-bb5b296d339a",
   "metadata": {},
   "source": [
    "# Evaluating the performance model "
   ]
  },
  {
   "cell_type": "code",
   "execution_count": null,
   "id": "f2112346-fe4d-4a53-a69d-9e9d01a4a01b",
   "metadata": {},
   "outputs": [],
   "source": []
  },
  {
   "cell_type": "code",
   "execution_count": 141,
   "id": "94d852dd-c9fa-4695-8603-38d1717cfed8",
   "metadata": {},
   "outputs": [
    {
     "name": "stdout",
     "output_type": "stream",
     "text": [
      "Model 1 Results:\n",
      "Coefficients: [-1.21436240e+02 -1.69355966e-02  8.62056431e+02  2.06582831e+01\n",
      "  2.45196891e+02 -7.35153881e-02 -3.62796477e+01  2.27373675e-13\n",
      "  5.30282040e+02  2.35106426e+01]\n",
      "Intercept: -12636.278112384593\n",
      "Mean Squared Error: 2096851.1400177048\n",
      "R^2 Score: 0.8428476112018002\n",
      "\n",
      "Model 2 Results:\n",
      "Coefficients: [-139.71983023 1562.68031737   25.16884514  398.65132458  -67.99088006\n",
      "  317.39419158   23.10927978]\n",
      "Intercept: -13035.974821898697\n",
      "Mean Squared Error: 2376056.2484937\n",
      "R^2 Score: 0.8219220676931214\n",
      "\n",
      "Model 3 Results:\n",
      "Coefficients: [-2.84710668e-02 -2.14835053e+01 -8.36253579e-04 -2.24299788e+03\n",
      " -1.56507281e+02  6.43219851e+02  7.74984755e-01 -1.86627242e+03\n",
      " -7.97608088e-05  1.58265632e+04  8.54011488e+01  1.41415759e-02\n",
      "  3.93602961e-04 -2.15069619e+01 -5.13874013e-01  8.44942197e+00\n",
      "  4.08184989e-03  1.23240205e+01 -8.14969269e+01  2.10334055e+02\n",
      " -7.53649711e-01 -8.72898553e-08  1.07400600e-02 -1.35852470e-04\n",
      " -1.93269406e-03 -4.40913072e-06 -3.31179370e-03 -5.21445036e-02\n",
      " -1.45314879e-03  1.94233527e-04  4.51029382e+03 -3.60871513e+01\n",
      "  1.12964454e+04 -3.67322563e+00 -1.40295967e+02 -8.97199410e+03\n",
      "  6.44468257e+02  3.35843786e+01  2.27797632e-01 -1.68616057e+02\n",
      "  1.76936840e-03 -4.50861231e+00 -6.26041188e+02  5.26127196e+02\n",
      "  6.54193769e-02  6.43218754e+02  1.13752294e+01 -2.53541328e+02\n",
      "  2.57287502e+03 -5.85453285e+03 -4.02368642e+00 -1.23177787e-03\n",
      " -9.22291163e-01  3.10468602e+00 -4.82274604e+00  2.79427425e-02\n",
      " -2.50108689e+02 -7.46508607e+03  5.83721499e+03  5.81031454e+00\n",
      "  0.00000000e+00  6.33062529e+04  3.41604796e+02 -2.25358933e+03\n",
      " -3.05881548e+02 -3.25529728e-03]\n",
      "Intercept: -1219481.1230413713\n",
      "Mean Squared Error: 2998321.9996254165\n",
      "R^2 Score: 0.7752852095054535\n",
      "\n"
     ]
    }
   ],
   "source": [
    "    print(f\"{result['model']} Results:\")\n",
    "    print(f\"Coefficients: {result['coefficients']}\")\n",
    "    print(f\"Intercept: {result['intercept']}\")\n",
    "    print(f\"Mean Squared Error: {result['MSE']}\")\n",
    "    print(f\"R^2 Score: {result['R^2']}\\n\")"
   ]
  },
  {
   "cell_type": "code",
   "execution_count": null,
   "id": "ae53be85-850b-4ec6-8c7d-607085b4008a",
   "metadata": {},
   "outputs": [],
   "source": [
    "'''\n",
    "\n",
    "Summary:\n",
    "Model 1 performs the best with an R² score of 0.8428 and the lowest MSE. It indicates that using all features without any preprocessing gives the best result for this dataset.\n",
    "Model 2 shows reasonable performance but is less effective than Model 1. The feature selection process might need adjustment or a different subset of features might be more effective.\n",
    "Model 3 shows that polynomial features can capture non-linear relationships, but in this case, it did not outperform Model 1.\n",
    "\n",
    "'''"
   ]
  },
  {
   "cell_type": "code",
   "execution_count": null,
   "id": "4fa2b63b-023c-4411-ba50-a61aa1b4f23c",
   "metadata": {},
   "outputs": [],
   "source": []
  },
  {
   "cell_type": "code",
   "execution_count": null,
   "id": "4ebb9eb8-e40f-4fd8-b467-66882fc1da18",
   "metadata": {},
   "outputs": [],
   "source": []
  },
  {
   "cell_type": "markdown",
   "id": "0e3c8c27-6fc4-44a1-a9f7-ad32e0303267",
   "metadata": {},
   "source": [
    "# Task 5"
   ]
  },
  {
   "cell_type": "code",
   "execution_count": 145,
   "id": "a31e2100-4bd3-4199-9c20-53e37446f537",
   "metadata": {},
   "outputs": [],
   "source": [
    "import pandas as pd\n",
    "from sklearn.model_selection import train_test_split\n",
    "from sklearn.linear_model import Lasso, Ridge\n",
    "from sklearn.metrics import mean_squared_error, r2_score"
   ]
  },
  {
   "cell_type": "code",
   "execution_count": 147,
   "id": "a6042fe7-bf46-4f5c-a0d6-82e506bb44cf",
   "metadata": {},
   "outputs": [],
   "source": [
    "# Apply Lasso Regression\n",
    "lasso = Lasso(alpha=0.1)  # You can adjust the alpha value for regularization strength\n",
    "lasso.fit(X_train, y_train)\n",
    "y_pred_lasso = lasso.predict(X_test)"
   ]
  },
  {
   "cell_type": "code",
   "execution_count": 149,
   "id": "f45161c4-cc64-44de-beeb-ca8a084d9a86",
   "metadata": {},
   "outputs": [],
   "source": [
    "# Apply Ridge Regression\n",
    "ridge = Ridge(alpha=0.1)  # You can adjust the alpha value for regularization strength\n",
    "ridge.fit(X_train, y_train)\n",
    "y_pred_ridge = ridge.predict(X_test)"
   ]
  },
  {
   "cell_type": "code",
   "execution_count": 151,
   "id": "c7dbc142-56d1-41a8-8316-53ccb65bf688",
   "metadata": {},
   "outputs": [],
   "source": [
    "# Calculate performance metrics for Lasso Regression\n",
    "mse_lasso = mean_squared_error(y_test, y_pred_lasso)\n",
    "r2_lasso = r2_score(y_test, y_pred_lasso)"
   ]
  },
  {
   "cell_type": "code",
   "execution_count": 153,
   "id": "15e0d787-2a65-4577-97e9-51670f904fab",
   "metadata": {},
   "outputs": [],
   "source": [
    "# Calculate performance metrics for Ridge Regression\n",
    "mse_ridge = mean_squared_error(y_test, y_pred_ridge)\n",
    "r2_ridge = r2_score(y_test, y_pred_ridge)"
   ]
  },
  {
   "cell_type": "code",
   "execution_count": 155,
   "id": "8e078241-0ca7-44de-8a50-b0b9316f1ce2",
   "metadata": {},
   "outputs": [
    {
     "name": "stdout",
     "output_type": "stream",
     "text": [
      "Lasso Regression Results:\n",
      "Coefficients: [-1.21429829e+02 -1.69413249e-02  8.60811235e+02  2.06756278e+01\n",
      "  2.43149775e+02 -7.34923115e-02 -3.62415881e+01  0.00000000e+00\n",
      "  5.27451276e+02  2.35067650e+01]\n",
      "Intercept: -12617.36610656307\n",
      "Mean Squared Error: 2096722.1822062011\n",
      "R^2 Score: 0.8428572761836127\n",
      "\n"
     ]
    }
   ],
   "source": [
    "# Print results\n",
    "print(\"Lasso Regression Results:\")\n",
    "print(f\"Coefficients: {lasso.coef_}\")\n",
    "print(f\"Intercept: {lasso.intercept_}\")\n",
    "print(f\"Mean Squared Error: {mse_lasso}\")\n",
    "print(f\"R^2 Score: {r2_lasso}\\n\")"
   ]
  },
  {
   "cell_type": "code",
   "execution_count": 157,
   "id": "16c877a5-beba-4077-978e-49460e10d16e",
   "metadata": {},
   "outputs": [
    {
     "name": "stdout",
     "output_type": "stream",
     "text": [
      "Ridge Regression Results:\n",
      "Coefficients: [-1.21434221e+02 -1.69393136e-02  8.61002230e+02  2.06706367e+01\n",
      "  2.44800385e+02 -7.35482757e-02 -3.62843906e+01  0.00000000e+00\n",
      "  5.29044952e+02  2.35067637e+01]\n",
      "Intercept: -12624.952349556246\n",
      "Mean Squared Error: 2096694.722346019\n",
      "R^2 Score: 0.842859334213647\n",
      "\n"
     ]
    }
   ],
   "source": [
    "print(\"Ridge Regression Results:\")\n",
    "print(f\"Coefficients: {ridge.coef_}\")\n",
    "print(f\"Intercept: {ridge.intercept_}\")\n",
    "print(f\"Mean Squared Error: {mse_ridge}\")\n",
    "print(f\"R^2 Score: {r2_ridge}\\n\")"
   ]
  },
  {
   "cell_type": "code",
   "execution_count": null,
   "id": "1b3766ab-bd39-457f-bd97-ed9b803398ac",
   "metadata": {},
   "outputs": [],
   "source": [
    "'''\n",
    "\n",
    "Summary and Comparison Performance:\n",
    "\n",
    "Both Lasso and Ridge regression perform similarly to the basic Linear Regression model (Model 1) with very close MSE and R² scores.\n",
    "Lasso regression has the added benefit of feature selection, which can be useful for simplifying models and understanding feature importance.\n",
    "Ridge regression handles multicollinearity well and shrinks coefficients without eliminating features.\n",
    "\n",
    "'''"
   ]
  },
  {
   "cell_type": "code",
   "execution_count": null,
   "id": "15f08421-a658-40a3-a3ea-f0d7105bc0a2",
   "metadata": {},
   "outputs": [],
   "source": []
  },
  {
   "cell_type": "code",
   "execution_count": null,
   "id": "55b9924d-6841-4201-a999-2fc654837778",
   "metadata": {},
   "outputs": [],
   "source": []
  },
  {
   "cell_type": "markdown",
   "id": "1212717d-af13-4a35-aaba-d5bc5265b6a7",
   "metadata": {},
   "source": [
    "## Thank You!\n",
    "- Hamza Khan"
   ]
  }
 ],
 "metadata": {
  "kernelspec": {
   "display_name": "Python 3 (ipykernel)",
   "language": "python",
   "name": "python3"
  },
  "language_info": {
   "codemirror_mode": {
    "name": "ipython",
    "version": 3
   },
   "file_extension": ".py",
   "mimetype": "text/x-python",
   "name": "python",
   "nbconvert_exporter": "python",
   "pygments_lexer": "ipython3",
   "version": "3.12.4"
  }
 },
 "nbformat": 4,
 "nbformat_minor": 5
}
